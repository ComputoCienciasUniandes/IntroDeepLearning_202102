{
  "nbformat": 4,
  "nbformat_minor": 0,
  "metadata": {
    "colab": {
      "name": "11_Exploracion_Metaparametros.ipynb",
      "provenance": [],
      "collapsed_sections": []
    },
    "kernelspec": {
      "name": "python3",
      "display_name": "Python 3"
    },
    "language_info": {
      "name": "python"
    }
  },
  "cells": [
    {
      "cell_type": "markdown",
      "metadata": {
        "id": "O4mC0q6z4or3"
      },
      "source": [
        "# Exploración de metaparametros\n",
        "\n",
        "Una de las tareas fundamentales al momento de diseñar un modelo de aprendizaje automático es la selección de los parámetros del modelo (metaparámetros), hasta el momento los parámetros que hemos utilizados han sido:\n",
        "\n",
        "* **n_layers** = Número de capas\n",
        "* **n_neurons** = Número de neuronas\n",
        "* **n_epoch** = Número de épocas\n",
        "* **lr** = Tasa de aprendizaje - learning rate\n",
        "* **weight_decay** = peso de decaímiento\n",
        "\n",
        "Sin embargo uno de los metaparámetros más importantes al momento de entrenar una ANN es el tamaño de los datos con el que el modelo aprende. El **batch_size** es un parámetro que regula el tamaño de los datos que el modelo utiliza para entrenarse.\n",
        "\n",
        "* **batch_size** = Tamaño del subconjunto"
      ]
    },
    {
      "cell_type": "markdown",
      "metadata": {
        "id": "afLpl_QAianN"
      },
      "source": [
        "#Ejercicio\n",
        "\n",
        "Utilizar el metaparametro **batch_size** y compare su resultados de *loss*, *f1_score* y *accuracy* para un modelo similar utilizando diferentes épocas."
      ]
    },
    {
      "cell_type": "code",
      "metadata": {
        "id": "YiqSAgolP16s"
      },
      "source": [
        "#-- Descomprimimos el dataset\n",
        "# !rm -r mnist\n",
        "# !unzip mnist.zip"
      ],
      "execution_count": 1,
      "outputs": []
    },
    {
      "cell_type": "code",
      "metadata": {
        "colab": {
          "base_uri": "https://localhost:8080/",
          "height": 35
        },
        "id": "oFLR1GlWVgOI",
        "outputId": "92d2ceb4-add8-406e-aca3-a8533c7c7a7b"
      },
      "source": [
        "#--- Buscamos las direcciones de cada archivo de imagen\n",
        "from glob import glob\n",
        "\n",
        "train_files = glob('./mnist/train/*/*.png')\n",
        "valid_files = glob('./mnist/valid/*/*.png')\n",
        "test_files = glob('./mnist/test/*/*.png')\n",
        "\n",
        "train_files[0]"
      ],
      "execution_count": 2,
      "outputs": [
        {
          "output_type": "execute_result",
          "data": {
            "application/vnd.google.colaboratory.intrinsic+json": {
              "type": "string"
            },
            "text/plain": [
              "'./mnist/train/1/6783.png'"
            ]
          },
          "metadata": {},
          "execution_count": 2
        }
      ]
    },
    {
      "cell_type": "code",
      "metadata": {
        "colab": {
          "base_uri": "https://localhost:8080/"
        },
        "id": "8BaOzijWVjW_",
        "outputId": "5b07e477-8867-4605-b298-0f7323212a69"
      },
      "source": [
        "#--- Ordenamos los datos de forma aleatoria para evitar sesgos\n",
        "import numpy as np\n",
        "\n",
        "np.random.shuffle(train_files)\n",
        "np.random.shuffle(valid_files)\n",
        "np.random.shuffle(test_files)\n",
        "\n",
        "len(train_files), len(valid_files), len(test_files)"
      ],
      "execution_count": 3,
      "outputs": [
        {
          "output_type": "execute_result",
          "data": {
            "text/plain": [
              "(6000, 2000, 992)"
            ]
          },
          "metadata": {},
          "execution_count": 3
        }
      ]
    },
    {
      "cell_type": "code",
      "metadata": {
        "id": "55McdyrRVmg1"
      },
      "source": [
        "#--- Cargamos los datos de entrenamiento en listas\n",
        "from PIL import Image\n",
        "\n",
        "N_train = len(train_files)\n",
        "X_train = []\n",
        "Y_train = []\n",
        "\n",
        "for i, train_file in enumerate(train_files):\n",
        "  Y_train.append( int(train_file.split('/')[3]) )\n",
        "  X_train.append(np.array(Image.open(train_file)))"
      ],
      "execution_count": 4,
      "outputs": []
    },
    {
      "cell_type": "code",
      "metadata": {
        "id": "VyaE4JuVVqyX"
      },
      "source": [
        "#--- Cargamos los datos de validación en listas\n",
        "N_valid = len(valid_files)\n",
        "X_valid = []\n",
        "Y_valid = []\n",
        "\n",
        "for i, valid_file in enumerate(valid_files):\n",
        "  Y_valid.append( int(valid_file.split('/')[3]) )\n",
        "  X_valid.append( np.array(Image.open(valid_file)) )"
      ],
      "execution_count": 5,
      "outputs": []
    },
    {
      "cell_type": "code",
      "metadata": {
        "id": "tEKX-tU3Vtda"
      },
      "source": [
        "#--- Cargamos los datos de testeo en listas\n",
        "N_test = len(test_files)\n",
        "X_test = []\n",
        "Y_test = []\n",
        "\n",
        "for i, test_file in enumerate(test_files):\n",
        "  Y_test.append( int(test_file.split('/')[3]) )\n",
        "  X_test.append( np.array(Image.open(test_file)) )"
      ],
      "execution_count": 6,
      "outputs": []
    },
    {
      "cell_type": "code",
      "metadata": {
        "colab": {
          "base_uri": "https://localhost:8080/",
          "height": 482
        },
        "id": "v-Q3p5HAVyXW",
        "outputId": "f9fcc61f-b530-48aa-864f-5c50da2b5502"
      },
      "source": [
        "#-- Visualizamos los datos\n",
        "import matplotlib.pyplot as plt\n",
        "\n",
        "fig = plt.figure(figsize=(8,8))\n",
        "for i in range(4):\n",
        "  plt.subplot(2,2,i+1)\n",
        "  plt.imshow(X_test[i*15])\n",
        "  plt.title(Y_test[i*15])\n",
        "  plt.axis(False)\n",
        "plt.show()"
      ],
      "execution_count": 7,
      "outputs": [
        {
          "output_type": "display_data",
          "data": {
            "image/png": "[encoded data removed]",
            "text/plain": [
              "<Figure size 576x576 with 4 Axes>"
            ]
          },
          "metadata": {
            "needs_background": "light"
          }
        }
      ]
    },
    {
      "cell_type": "code",
      "metadata": {
        "colab": {
          "base_uri": "https://localhost:8080/"
        },
        "id": "Lls2h-JYV6N7",
        "outputId": "ce713401-b754-4aa4-a40c-59e195ca35e0"
      },
      "source": [
        "#--- Convetimos las listas con los datos a tensores de torch\n",
        "import torch\n",
        "from torch.autograd import Variable\n",
        "\n",
        "\n",
        "X_train = Variable(torch.from_numpy(np.array(X_train))).float()\n",
        "Y_train = Variable(torch.from_numpy(np.array(Y_train))).long()\n",
        "\n",
        "X_valid = Variable(torch.from_numpy(np.array(X_valid))).float()\n",
        "Y_valid = Variable(torch.from_numpy(np.array(Y_valid))).long()\n",
        "\n",
        "X_test = Variable(torch.from_numpy(np.array(X_test))).float()\n",
        "Y_test = Variable(torch.from_numpy(np.array(Y_test))).long()\n",
        "\n",
        "X_train.data.size()"
      ],
      "execution_count": 8,
      "outputs": [
        {
          "output_type": "execute_result",
          "data": {
            "text/plain": [
              "torch.Size([6000, 28, 28])"
            ]
          },
          "metadata": {},
          "execution_count": 8
        }
      ]
    },
    {
      "cell_type": "code",
      "metadata": {
        "id": "nG5mKoGeQgwn"
      },
      "source": [
        "#--- Definimos una ANN simple sin utilizar batch_size\n",
        "\n",
        "input_dim = 28*28\n",
        "out_dim = 10\n",
        "hidden = 50\n",
        "\n",
        "learning_rate = 0.01\n",
        "weight_decay = 0.01\n",
        "\n",
        "model = torch.nn.Sequential(\n",
        "  torch.nn.Linear(input_dim, hidden),\n",
        "  torch.nn.Tanh(),\n",
        "  torch.nn.Linear(hidden, hidden),\n",
        "  torch.nn.ReLU(),\n",
        "  torch.nn.Linear(hidden, hidden),\n",
        "  torch.nn.ReLU(),\n",
        "  torch.nn.Linear(hidden, out_dim)\n",
        ")\n",
        "\n",
        "optimizer = torch.optim.Adam(model.parameters(), lr=learning_rate, weight_decay=weight_decay)\n",
        "criterion = torch.nn.CrossEntropyLoss()"
      ],
      "execution_count": 9,
      "outputs": []
    },
    {
      "cell_type": "markdown",
      "metadata": {
        "id": "1u-YS1dmi6TU"
      },
      "source": [
        "# Modelo entrenado en 15 épocas sin batch_size"
      ]
    },
    {
      "cell_type": "code",
      "metadata": {
        "colab": {
          "base_uri": "https://localhost:8080/"
        },
        "id": "n5nWs07eaonb",
        "outputId": "4c5122f7-52be-4013-f65d-4280d65fc7da"
      },
      "source": [
        "from sklearn.metrics import f1_score\n",
        "\n",
        "n_epoch = 15\n",
        "\n",
        "loss_train = []\n",
        "f1_train = []\n",
        "acc_train = []\n",
        "\n",
        "loss_valid = []\n",
        "f1_valid = []\n",
        "acc_valid = []\n",
        "\n",
        "for epoch in range(n_epoch):\n",
        "  model.train()\n",
        "  Xtr = X_train.view(X_train.size(0), -1)\n",
        "  Y_pred = model(Xtr)\n",
        "\n",
        "  loss = criterion(Y_pred,Y_train)\n",
        "  loss_train.append(loss.item())\n",
        "\n",
        "  Y_pred = torch.argmax(Y_pred, 1)\n",
        "  f1_train.append( f1_score(Y_train,Y_pred, average='macro') )\n",
        "  \n",
        "  acc = sum(Y_train == Y_pred)/len(Y_pred)\n",
        "  acc_train.append(acc)\n",
        "\n",
        "  optimizer.zero_grad()\n",
        "  loss.backward()\n",
        "  optimizer.step()\n",
        "\n",
        "  print( 'Epoch [{}/{}], loss: {}. f1:{} acc: {} '.format(epoch+1,n_epoch,loss_train[-1], f1_train[-1], acc_train[-1]) )\n",
        "\n",
        "  model.eval()\n",
        "  Xvl = X_valid.view(X_valid.size(0), -1)\n",
        "  Y_pred = model(Xvl)  \n",
        "  loss = criterion(Y_pred,Y_valid)\n",
        "  loss_valid.append(loss.item())\n",
        "\n",
        "  Y_pred = torch.argmax(Y_pred, 1)\n",
        "  f1_valid.append( f1_score(Y_valid, Y_pred, average='macro') )\n",
        "\n",
        "  acc = sum(Y_valid == Y_pred)/len(Y_pred)\n",
        "  acc_valid.append(acc)  "
      ],
      "execution_count": 10,
      "outputs": [
        {
          "output_type": "stream",
          "text": [
            "Epoch [1/15], loss: 2.3161094188690186. f1:0.042204042202629466 acc: 0.10583333671092987 \n",
            "Epoch [2/15], loss: 2.267849922180176. f1:0.11735921015969963 acc: 0.21116666495800018 \n",
            "Epoch [3/15], loss: 2.1909213066101074. f1:0.2549478955738322 acc: 0.3401666581630707 \n",
            "Epoch [4/15], loss: 2.06748366355896. f1:0.29302971162329794 acc: 0.34583333134651184 \n",
            "Epoch [5/15], loss: 1.9146331548690796. f1:0.3313424434892231 acc: 0.40833333134651184 \n",
            "Epoch [6/15], loss: 1.7311033010482788. f1:0.4205555339893947 acc: 0.5040000081062317 \n",
            "Epoch [7/15], loss: 1.5327568054199219. f1:0.5145558342783243 acc: 0.581166684627533 \n",
            "Epoch [8/15], loss: 1.3146378993988037. f1:0.6118396259930214 acc: 0.6553333401679993 \n",
            "Epoch [9/15], loss: 1.1241217851638794. f1:0.67703852121715 acc: 0.7110000252723694 \n",
            "Epoch [10/15], loss: 0.9716643691062927. f1:0.7680431760544357 acc: 0.7720000147819519 \n",
            "Epoch [11/15], loss: 0.8674055337905884. f1:0.7519244972699943 acc: 0.7578333616256714 \n",
            "Epoch [12/15], loss: 0.7827067971229553. f1:0.7968804065192018 acc: 0.7985000014305115 \n",
            "Epoch [13/15], loss: 0.7198809385299683. f1:0.7928910184882969 acc: 0.7973333597183228 \n",
            "Epoch [14/15], loss: 0.7088490128517151. f1:0.786316148997819 acc: 0.7871666550636292 \n",
            "Epoch [15/15], loss: 0.6586387157440186. f1:0.7924432873703544 acc: 0.7933333516120911 \n"
          ],
          "name": "stdout"
        }
      ]
    },
    {
      "cell_type": "code",
      "metadata": {
        "colab": {
          "base_uri": "https://localhost:8080/",
          "height": 335
        },
        "id": "PoXysWvVax0h",
        "outputId": "f43edbd5-64ee-4654-c8de-80d0e0153ae4"
      },
      "source": [
        "fig = plt.figure(figsize=(15,5))\n",
        "plt.subplot(1,3,1)\n",
        "plt.plot(range(n_epoch), loss_train, label='train')\n",
        "plt.plot(range(n_epoch), loss_valid, label='valid')\n",
        "plt.xlabel('n_epoch')\n",
        "plt.ylabel('loss')\n",
        "plt.legend()\n",
        "plt.grid()\n",
        "plt.subplot(1,3,2)\n",
        "plt.plot(range(n_epoch), f1_train, label='train')\n",
        "plt.plot(range(n_epoch), f1_valid, label='valid')\n",
        "plt.xlabel('n_epoch')\n",
        "plt.ylabel('f1_score')\n",
        "plt.legend()\n",
        "plt.grid()\n",
        "plt.subplot(1,3,3)\n",
        "plt.plot(range(n_epoch), acc_train, label='train')\n",
        "plt.plot(range(n_epoch), acc_valid, label='valid')\n",
        "plt.xlabel('n_epoch')\n",
        "plt.ylabel('accuracy')\n",
        "plt.legend()\n",
        "plt.grid()"
      ],
      "execution_count": 11,
      "outputs": [
        {
          "output_type": "display_data",
          "data": {
            "image/png": "[encoded data removed]",
            "text/plain": [
              "<Figure size 1080x360 with 3 Axes>"
            ]
          },
          "metadata": {
            "needs_background": "light"
          }
        }
      ]
    },
    {
      "cell_type": "code",
      "metadata": {
        "colab": {
          "base_uri": "https://localhost:8080/"
        },
        "id": "HX8_40M_m-WW",
        "outputId": "a5e08e19-abb7-4048-a465-21a4cea980c4"
      },
      "source": [
        " #-- Evaluamos el modelo entrenado con el set de testeo\n",
        "model.eval()\n",
        "\n",
        "Xts = X_test.view(X_test.size(0), -1)\n",
        "Y_pred = model(Xts)  \n",
        "loss = criterion(Y_pred,Y_test)\n",
        "\n",
        "Y_pred = torch.argmax(Y_pred, 1)\n",
        "f1 = f1_score(Y_test, Y_pred, average='macro')\n",
        "\n",
        "acc = sum(Y_test == Y_pred)/len(Y_pred)\n",
        "\n",
        "print('loss: {}, f1: {}, acc: {}'.format(loss.item(), f1, acc))"
      ],
      "execution_count": 12,
      "outputs": [
        {
          "output_type": "stream",
          "text": [
            "loss: 0.6466957330703735, f1: 0.7780534339026925, acc: 0.7832661271095276\n"
          ],
          "name": "stdout"
        }
      ]
    },
    {
      "cell_type": "markdown",
      "metadata": {
        "id": "ZoJmMRkwKSp1"
      },
      "source": [
        "# Batch Size\n",
        "El **batch_size** es un metaparametro que permite seleccionar muestras de datos más pequeñas que el conjunto completo de datos. Usar subconjuntos en el proceso de entrenamiento en vez del conjunto completo, es altamente eficiente desde el punto de vista computacional. De modo que se puede obtener un modelo de igual capacidad usando un menor número de épocas.\n",
        "\n",
        "![](https://drive.google.com/uc?id=1I9R58FoYEr9SGtZfAakwAuwmEk_OnBds)"
      ]
    },
    {
      "cell_type": "markdown",
      "metadata": {
        "id": "iDKPx9UrjDo8"
      },
      "source": [
        "# Modelo entrenado en 5 épocas con batch_size"
      ]
    },
    {
      "cell_type": "code",
      "metadata": {
        "id": "6D_TKPGfWtPA"
      },
      "source": [
        "from torch.utils.data import DataLoader\n",
        "from torch.utils.data import TensorDataset\n",
        "\n",
        "batch_size = 512\n",
        "\n",
        "train_ds = TensorDataset(X_train, Y_train)\n",
        "train_dl = DataLoader(train_ds, batch_size=batch_size, shuffle=True)"
      ],
      "execution_count": 13,
      "outputs": []
    },
    {
      "cell_type": "code",
      "metadata": {
        "id": "zJ5FKfH3y3c6"
      },
      "source": [
        "#--- Definimos una ANN simple sin utilizar batch_size\n",
        "\n",
        "input_dim = 28*28\n",
        "out_dim = 10\n",
        "hidden = 50\n",
        "\n",
        "learning_rate = 0.01\n",
        "weight_decay = 0.01\n",
        "\n",
        "model = torch.nn.Sequential(\n",
        "  torch.nn.Linear(input_dim, hidden),\n",
        "  torch.nn.Tanh(),\n",
        "  torch.nn.Linear(hidden, hidden),\n",
        "  torch.nn.ReLU(),\n",
        "  torch.nn.Linear(hidden, hidden),\n",
        "  torch.nn.ReLU(),\n",
        "  torch.nn.Linear(hidden, out_dim)\n",
        ")\n",
        "\n",
        "optimizer = torch.optim.Adam(model.parameters(), lr=learning_rate, weight_decay=weight_decay)\n",
        "criterion = torch.nn.CrossEntropyLoss()"
      ],
      "execution_count": 14,
      "outputs": []
    },
    {
      "cell_type": "code",
      "metadata": {
        "colab": {
          "base_uri": "https://localhost:8080/"
        },
        "id": "Q3SBBTOriHbg",
        "outputId": "a3bf024f-173b-4918-db25-2d7b953768d8"
      },
      "source": [
        "n_epoch = 5\n",
        "\n",
        "loss_train = []\n",
        "f1_train = []\n",
        "acc_train = []\n",
        "\n",
        "loss_valid = []\n",
        "f1_valid = []\n",
        "acc_valid = []\n",
        "\n",
        "total_it = 0\n",
        "\n",
        "for epoch in range(n_epoch):\n",
        "  for batch_id, (X_train_batch, Y_train_batch) in enumerate(train_dl):\n",
        "    model.train()\n",
        "\n",
        "    Xtr = X_train_batch.view(X_train_batch.size(0), -1)\n",
        "    Y_pred = model(Xtr)\n",
        "\n",
        "    loss = criterion(Y_pred,Y_train_batch)\n",
        "\n",
        "    optimizer.zero_grad()\n",
        "    loss.backward()\n",
        "    optimizer.step()\n",
        "\n",
        "    loss_train.append(loss.item())\n",
        "\n",
        "    Y_pred = torch.argmax(Y_pred, 1)\n",
        "    f1_train.append( f1_score(Y_train_batch,Y_pred, average='macro') )\n",
        "  \n",
        "    acc = sum(Y_train_batch == Y_pred)/len(Y_pred)\n",
        "    acc_train.append(acc)\n",
        "\n",
        "    model.eval()\n",
        "    Xvl = X_valid.view(X_valid.size(0), -1)\n",
        "    Y_pred = model(Xvl)  \n",
        "    loss = criterion(Y_pred,Y_valid)\n",
        "    loss_valid.append(loss.item())\n",
        "\n",
        "    Y_pred = torch.argmax(Y_pred, 1)\n",
        "    f1_valid.append( f1_score(Y_valid, Y_pred, average='macro') )\n",
        "\n",
        "    acc = sum(Y_valid == Y_pred)/len(Y_pred)\n",
        "    acc_valid.append(acc)\n",
        "\n",
        "    total_it += 1\n",
        "\n",
        "  print( 'Epoch [{}/{}], loss: {}. f1:{} acc: {} '.format(epoch+1,n_epoch, loss_train[-1], f1_train[-1], acc_train[-1]) )  "
      ],
      "execution_count": 15,
      "outputs": [
        {
          "output_type": "stream",
          "text": [
            "Epoch [1/5], loss: 1.5093005895614624. f1:0.3769161241688435 acc: 0.4538043439388275 \n",
            "Epoch [2/5], loss: 1.2597968578338623. f1:0.45594967567560696 acc: 0.4836956560611725 \n",
            "Epoch [3/5], loss: 1.1960434913635254. f1:0.5386312641487773 acc: 0.5597826242446899 \n",
            "Epoch [4/5], loss: 1.066349744796753. f1:0.6117409972364325 acc: 0.6195651888847351 \n",
            "Epoch [5/5], loss: 1.0590521097183228. f1:0.6555691262007107 acc: 0.66576087474823 \n"
          ],
          "name": "stdout"
        }
      ]
    },
    {
      "cell_type": "code",
      "metadata": {
        "colab": {
          "base_uri": "https://localhost:8080/",
          "height": 335
        },
        "id": "faVULa16aY8o",
        "outputId": "75a02b60-3adf-4621-f99f-792c5fd1ac85"
      },
      "source": [
        "fig = plt.figure(figsize=(15,5))\n",
        "plt.subplot(1,3,1)\n",
        "plt.plot(range(total_it), loss_train, label='train')\n",
        "# plt.plot(range(total_it), loss_valid, label='valid')\n",
        "plt.xlabel('n_epoch')\n",
        "plt.ylabel('loss')\n",
        "plt.legend()\n",
        "plt.grid()\n",
        "plt.subplot(1,3,2)\n",
        "plt.plot(range(total_it), f1_train, label='train')\n",
        "plt.plot(range(total_it), f1_valid, label='valid')\n",
        "plt.xlabel('n_epoch')\n",
        "plt.ylabel('f1_score')\n",
        "plt.legend()\n",
        "plt.grid()\n",
        "plt.subplot(1,3,3)\n",
        "plt.plot(range(total_it), acc_train, label='train')\n",
        "plt.plot(range(total_it), acc_valid, label='valid')\n",
        "plt.xlabel('n_epoch')\n",
        "plt.ylabel('accuracy')\n",
        "plt.legend()\n",
        "plt.grid()"
      ],
      "execution_count": 16,
      "outputs": [
        {
          "output_type": "display_data",
          "data": {
            "image/png": "[encoded data removed]",
            "text/plain": [
              "<Figure size 1080x360 with 3 Axes>"
            ]
          },
          "metadata": {
            "needs_background": "light"
          }
        }
      ]
    },
    {
      "cell_type": "code",
      "metadata": {
        "colab": {
          "base_uri": "https://localhost:8080/"
        },
        "id": "GNVsc50Tm6qK",
        "outputId": "62b92b50-7515-49cc-82c8-aa79b6cb0592"
      },
      "source": [
        " #-- Evaluamos el modelo entrenado con el set de testeo\n",
        "model.eval()\n",
        "\n",
        "Xts = X_test.view(X_test.size(0), -1)\n",
        "Y_pred = model(Xts)  \n",
        "loss = criterion(Y_pred,Y_test)\n",
        "\n",
        "Y_pred = torch.argmax(Y_pred, 1)\n",
        "f1 = f1_score(Y_test, Y_pred, average='macro')\n",
        "\n",
        "acc = sum(Y_test == Y_pred)/len(Y_pred)\n",
        "\n",
        "print('loss: {}, f1: {}, acc: {}'.format(loss.item(), f1, acc))"
      ],
      "execution_count": 17,
      "outputs": [
        {
          "output_type": "stream",
          "text": [
            "loss: 1.0936983823776245, f1: 0.6004857309955433, acc: 0.6149193644523621\n"
          ],
          "name": "stdout"
        }
      ]
    },
    {
      "cell_type": "markdown",
      "metadata": {
        "id": "p7XtidMugT-p"
      },
      "source": [
        "# Exploración de Metaparámetros\n",
        "\n",
        "La exploración de metaparámetros consiste en la búsqueda de los valores óptimos de estos parámetros que me arrojan los mejores resultados (*loss*, *f1_score* y el *accuracy*), evitando los problemas en el cruze de subsets, underfitting y overfitting."
      ]
    },
    {
      "cell_type": "code",
      "metadata": {
        "id": "x-30w12FyYxs"
      },
      "source": [
        ""
      ],
      "execution_count": 17,
      "outputs": []
    }
  ]
}