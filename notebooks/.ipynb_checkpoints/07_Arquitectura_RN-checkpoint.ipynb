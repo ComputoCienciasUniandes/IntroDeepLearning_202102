{
 "cells": [
  {
   "cell_type": "markdown",
   "metadata": {
    "id": "CpOIFrRwECAM"
   },
   "source": [
    "# Arquitectura de Una Red Neuronal\n",
    "\n",
    "En resumen, la arquitectura de una ANN está definida por el número y la forma de sus capas. En el estado del arte de estas ANN esas arquitecturas suelen ser un poco complejas, con algunas capas saltando sobre otras capas o capas que retornan información de regreso a capas anteriores.\n",
    "\n",
    "En este notebook veremos un ejemplo sencillo de una ANN y cual es la función de cada una de las capas que la componen. Para diseñar esta ANN usaremos el framework [PyTorch](https://pytorch.org/) y el dataset estándar para la clasificación de tres especies de flores [IRIS](https://archive.ics.uci.edu/ml/datasets/Iris)."
   ]
  },
  {
   "cell_type": "markdown",
   "metadata": {
    "id": "ZwjzcjdKVRVs"
   },
   "source": [
    "# Ejercicio\n",
    "\n",
    "En este notebook construiremos una ANN sencilla para hacer un ejercicio de clasificación usando el dataset [IRIS](https://archive.ics.uci.edu/ml/datasets/Iris)."
   ]
  },
  {
   "cell_type": "code",
   "execution_count": 1,
   "metadata": {
    "id": "Ge75HTieVNKa"
   },
   "outputs": [],
   "source": [
    "#--- Importamos paquetes escenciales\n",
    "import numpy as np\n",
    "import matplotlib.pyplot as plt"
   ]
  },
  {
   "cell_type": "code",
   "execution_count": 2,
   "metadata": {
    "colab": {
     "base_uri": "https://localhost:8080/"
    },
    "id": "wJ1_uc7xWEh6",
    "outputId": "a7a7f0a8-9b47-4207-909d-828ec7b73e5b"
   },
   "outputs": [
    {
     "data": {
      "text/plain": [
       "dict_keys(['data', 'target', 'frame', 'target_names', 'DESCR', 'feature_names', 'filename'])"
      ]
     },
     "execution_count": 2,
     "metadata": {},
     "output_type": "execute_result"
    }
   ],
   "source": [
    "from sklearn.datasets import load_iris\n",
    "from sklearn.model_selection import train_test_split\n",
    "from sklearn.preprocessing import StandardScaler\n",
    "\n",
    "iris = load_iris()\n",
    "iris.keys()"
   ]
  },
  {
   "cell_type": "code",
   "execution_count": 3,
   "metadata": {
    "colab": {
     "base_uri": "https://localhost:8080/"
    },
    "id": "S_bpHB4MUkup",
    "outputId": "d39a5f90-09bb-45fb-e1bc-8247cff50147"
   },
   "outputs": [
    {
     "data": {
      "text/plain": [
       "((120, 4), (120,))"
      ]
     },
     "execution_count": 3,
     "metadata": {},
     "output_type": "execute_result"
    }
   ],
   "source": [
    "#-- Extraemos la infromación más importante\n",
    "X = iris['data']\n",
    "Y = iris['target']\n",
    "names = iris['target_names']\n",
    "feature_names = iris['feature_names']\n",
    "\n",
    "#-- Normalizamos los datos para que tengan media 0 y desviación 1\n",
    "scaler = StandardScaler()\n",
    "X_scaled = scaler.fit_transform(X)\n",
    "\n",
    "#-- Dividimos los datos entre un conjunto de entrenamiento y testeo\n",
    "X_train, X_test, Y_train, Y_test = train_test_split(X_scaled, Y, test_size=0.2, random_state=42)\n",
    "\n",
    "#-- Visualizamos el tamaño de los datos de entrenamiento\n",
    "np.shape(X_train), np.shape(Y_train)"
   ]
  },
  {
   "cell_type": "code",
   "execution_count": 4,
   "metadata": {
    "colab": {
     "base_uri": "https://localhost:8080/",
     "height": 334
    },
    "id": "EP2LguctW7bh",
    "outputId": "2ed8f015-5d2d-4cbf-de7e-23e57a0134ef"
   },
   "outputs": [
    {
     "data": {
      "image/png": "[encoded data removed]",
      "text/plain": [
       "<Figure size 720x360 with 2 Axes>"
      ]
     },
     "metadata": {
      "needs_background": "light"
     },
     "output_type": "display_data"
    }
   ],
   "source": [
    "#--Visualizamos los datos\n",
    "class0 = Y == 0\n",
    "class1 = Y == 1\n",
    "class2 = Y == 2\n",
    "\n",
    "\n",
    "fig = plt.figure(figsize=(10,5))\n",
    "plt.subplot(1,2,1)\n",
    "plt.plot(X_scaled[:,0][class0],X_scaled[:,1][class0],'o',c='red', label=names[0])\n",
    "plt.plot(X_scaled[:,0][class1],X_scaled[:,1][class1],'o',c='blue', label=names[1])\n",
    "plt.plot(X_scaled[:,0][class2],X_scaled[:,1][class2],'o',c='green', label=names[2])\n",
    "plt.grid()\n",
    "plt.legend()\n",
    "plt.xlabel(feature_names[0])\n",
    "plt.ylabel(feature_names[1])\n",
    "plt.subplot(1,2,2)\n",
    "plt.plot(X_scaled[:,2][class0],X_scaled[:,3][class0],'o',c='red', label=names[0])\n",
    "plt.plot(X_scaled[:,2][class1],X_scaled[:,3][class1],'o',c='blue', label=names[1])\n",
    "plt.plot(X_scaled[:,2][class2],X_scaled[:,3][class2],'o',c='green', label=names[2])\n",
    "plt.grid()\n",
    "plt.legend()\n",
    "plt.xlabel(feature_names[2])\n",
    "plt.ylabel(feature_names[3])\n",
    "plt.show()"
   ]
  },
  {
   "cell_type": "markdown",
   "metadata": {
    "id": "hTOprWXNmrTR"
   },
   "source": [
    "# Artificial Neural Network con Pytorch\n",
    "\n",
    "Vamos a crear una ANN de 3 capas lineales, las dos primeras tendrán funciones de activación tipo ReLU y la última una función de activación tipo Softmax."
   ]
  },
  {
   "cell_type": "code",
   "execution_count": 5,
   "metadata": {
    "colab": {
     "base_uri": "https://localhost:8080/"
    },
    "id": "cJ9KyXnnbZkh",
    "outputId": "948211b8-2f10-4ba2-95fd-0596137227cc"
   },
   "outputs": [
    {
     "data": {
      "text/plain": [
       "Sequential(\n",
       "  (0): Linear(in_features=4, out_features=50, bias=True)\n",
       "  (1): ReLU()\n",
       "  (2): Linear(in_features=50, out_features=50, bias=True)\n",
       "  (3): ReLU()\n",
       "  (4): Linear(in_features=50, out_features=4, bias=True)\n",
       "  (5): Softmax(dim=1)\n",
       ")"
      ]
     },
     "execution_count": 5,
     "metadata": {},
     "output_type": "execute_result"
    }
   ],
   "source": [
    "#--- Importamos el paquete torch\n",
    "import torch\n",
    "from torch.autograd import Variable # Para convertir los datos a tensores\n",
    "\n",
    "#--- Definimos la secuencia de capas de la ANN\n",
    "input_dim = X_train.shape[1]\n",
    "model = torch.nn.Sequential(\n",
    "                torch.nn.Linear(input_dim, 50),\n",
    "                torch.nn.ReLU(),\n",
    "                torch.nn.Linear(50, 50),\n",
    "                torch.nn.ReLU(),\n",
    "                torch.nn.Linear(50, input_dim),\n",
    "                torch.nn.Softmax(dim=1)\n",
    "                )\n",
    "model"
   ]
  },
  {
   "cell_type": "code",
   "execution_count": 6,
   "metadata": {
    "id": "bv8lkGEWjpbK"
   },
   "outputs": [],
   "source": [
    "#-- Definimos el optimizador y el criterio de evaluación\n",
    "\n",
    "optimizer = torch.optim.Adam(model.parameters(), lr=0.001)\n",
    "criterion = torch.nn.CrossEntropyLoss()"
   ]
  },
  {
   "cell_type": "code",
   "execution_count": 7,
   "metadata": {
    "colab": {
     "base_uri": "https://localhost:8080/"
    },
    "id": "E7-Fq-bBjEOM",
    "outputId": "ff022449-6aa0-436a-8cdc-dc4aa11cd4e2"
   },
   "outputs": [
    {
     "name": "stderr",
     "output_type": "stream",
     "text": [
      "/home/debian/.local/lib/python3.7/site-packages/torch/autograd/__init__.py:132: UserWarning: CUDA initialization: Found no NVIDIA driver on your system. Please check that you have an NVIDIA GPU and installed a driver from http://www.nvidia.com/Download/index.aspx (Triggered internally at  /pytorch/c10/cuda/CUDAFunctions.cpp:100.)\n",
      "  allow_unreachable=True)  # allow_unreachable flag\n"
     ]
    },
    {
     "name": "stdout",
     "output_type": "stream",
     "text": [
      "Epoch [1/100], loss: 1.3980106115341187, acc: 0.11666666716337204\n",
      "Epoch [2/100], loss: 1.393473505973816, acc: 0.18333333730697632\n",
      "Epoch [3/100], loss: 1.3889248371124268, acc: 0.3083333373069763\n",
      "Epoch [4/100], loss: 1.3843680620193481, acc: 0.40833333134651184\n",
      "Epoch [5/100], loss: 1.3797887563705444, acc: 0.574999988079071\n",
      "Epoch [6/100], loss: 1.3751771450042725, acc: 0.6666666865348816\n",
      "Epoch [7/100], loss: 1.3705374002456665, acc: 0.7583333253860474\n",
      "Epoch [8/100], loss: 1.365833044052124, acc: 0.7833333611488342\n",
      "Epoch [9/100], loss: 1.3610107898712158, acc: 0.7833333611488342\n",
      "Epoch [10/100], loss: 1.3560733795166016, acc: 0.8166666626930237\n",
      "Epoch [11/100], loss: 1.3510017395019531, acc: 0.8416666388511658\n",
      "Epoch [12/100], loss: 1.3457931280136108, acc: 0.8333333134651184\n",
      "Epoch [13/100], loss: 1.3404699563980103, acc: 0.8333333134651184\n",
      "Epoch [14/100], loss: 1.3349967002868652, acc: 0.8333333134651184\n",
      "Epoch [15/100], loss: 1.3293845653533936, acc: 0.8166666626930237\n",
      "Epoch [16/100], loss: 1.3236019611358643, acc: 0.824999988079071\n",
      "Epoch [17/100], loss: 1.3176207542419434, acc: 0.824999988079071\n",
      "Epoch [18/100], loss: 1.3114187717437744, acc: 0.8333333134651184\n",
      "Epoch [19/100], loss: 1.3049970865249634, acc: 0.8416666388511658\n",
      "Epoch [20/100], loss: 1.2983505725860596, acc: 0.8416666388511658\n",
      "Epoch [21/100], loss: 1.2914565801620483, acc: 0.8416666388511658\n",
      "Epoch [22/100], loss: 1.2842978239059448, acc: 0.8416666388511658\n",
      "Epoch [23/100], loss: 1.2768683433532715, acc: 0.8333333134651184\n",
      "Epoch [24/100], loss: 1.2691574096679688, acc: 0.8416666388511658\n",
      "Epoch [25/100], loss: 1.2611401081085205, acc: 0.8500000238418579\n",
      "Epoch [26/100], loss: 1.2528462409973145, acc: 0.8333333134651184\n",
      "Epoch [27/100], loss: 1.2442888021469116, acc: 0.8333333134651184\n",
      "Epoch [28/100], loss: 1.2354861497879028, acc: 0.8333333134651184\n",
      "Epoch [29/100], loss: 1.2264292240142822, acc: 0.8333333134651184\n",
      "Epoch [30/100], loss: 1.2171118259429932, acc: 0.8416666388511658\n",
      "Epoch [31/100], loss: 1.2075577974319458, acc: 0.8583333492279053\n",
      "Epoch [32/100], loss: 1.1977757215499878, acc: 0.8583333492279053\n",
      "Epoch [33/100], loss: 1.1877729892730713, acc: 0.8500000238418579\n",
      "Epoch [34/100], loss: 1.1775785684585571, acc: 0.8416666388511658\n",
      "Epoch [35/100], loss: 1.1672359704971313, acc: 0.8416666388511658\n",
      "Epoch [36/100], loss: 1.1567599773406982, acc: 0.8416666388511658\n",
      "Epoch [37/100], loss: 1.1461766958236694, acc: 0.8416666388511658\n",
      "Epoch [38/100], loss: 1.1355226039886475, acc: 0.8500000238418579\n",
      "Epoch [39/100], loss: 1.1248432397842407, acc: 0.8500000238418579\n",
      "Epoch [40/100], loss: 1.1141756772994995, acc: 0.8500000238418579\n",
      "Epoch [41/100], loss: 1.103569746017456, acc: 0.8583333492279053\n",
      "Epoch [42/100], loss: 1.0930513143539429, acc: 0.8583333492279053\n",
      "Epoch [43/100], loss: 1.082698941230774, acc: 0.8583333492279053\n",
      "Epoch [44/100], loss: 1.0725460052490234, acc: 0.8583333492279053\n",
      "Epoch [45/100], loss: 1.0626318454742432, acc: 0.8583333492279053\n",
      "Epoch [46/100], loss: 1.0529848337173462, acc: 0.8583333492279053\n",
      "Epoch [47/100], loss: 1.0436464548110962, acc: 0.8583333492279053\n",
      "Epoch [48/100], loss: 1.0346418619155884, acc: 0.8583333492279053\n",
      "Epoch [49/100], loss: 1.0259816646575928, acc: 0.8583333492279053\n",
      "Epoch [50/100], loss: 1.0176820755004883, acc: 0.8583333492279053\n",
      "Epoch [51/100], loss: 1.0097647905349731, acc: 0.8583333492279053\n",
      "Epoch [52/100], loss: 1.0022135972976685, acc: 0.8583333492279053\n",
      "Epoch [53/100], loss: 0.9950412511825562, acc: 0.8666666746139526\n",
      "Epoch [54/100], loss: 0.98823481798172, acc: 0.8666666746139526\n",
      "Epoch [55/100], loss: 0.9817662835121155, acc: 0.8666666746139526\n",
      "Epoch [56/100], loss: 0.9756237864494324, acc: 0.8666666746139526\n",
      "Epoch [57/100], loss: 0.969796359539032, acc: 0.8666666746139526\n",
      "Epoch [58/100], loss: 0.9642671942710876, acc: 0.8666666746139526\n",
      "Epoch [59/100], loss: 0.9590188264846802, acc: 0.8666666746139526\n",
      "Epoch [60/100], loss: 0.9540339708328247, acc: 0.8666666746139526\n",
      "Epoch [61/100], loss: 0.9493064284324646, acc: 0.8666666746139526\n",
      "Epoch [62/100], loss: 0.9448080062866211, acc: 0.8666666746139526\n",
      "Epoch [63/100], loss: 0.9405225515365601, acc: 0.8666666746139526\n",
      "Epoch [64/100], loss: 0.9364414215087891, acc: 0.8666666746139526\n",
      "Epoch [65/100], loss: 0.9325452446937561, acc: 0.875\n",
      "Epoch [66/100], loss: 0.9288193583488464, acc: 0.875\n",
      "Epoch [67/100], loss: 0.9252532720565796, acc: 0.875\n",
      "Epoch [68/100], loss: 0.9218310117721558, acc: 0.875\n",
      "Epoch [69/100], loss: 0.9185376763343811, acc: 0.8666666746139526\n",
      "Epoch [70/100], loss: 0.9153608679771423, acc: 0.8666666746139526\n",
      "Epoch [71/100], loss: 0.9122961163520813, acc: 0.875\n",
      "Epoch [72/100], loss: 0.9093267917633057, acc: 0.875\n",
      "Epoch [73/100], loss: 0.9064436554908752, acc: 0.875\n",
      "Epoch [74/100], loss: 0.9036329388618469, acc: 0.875\n",
      "Epoch [75/100], loss: 0.9008882641792297, acc: 0.8833333253860474\n",
      "Epoch [76/100], loss: 0.8982013463973999, acc: 0.8833333253860474\n",
      "Epoch [77/100], loss: 0.89556485414505, acc: 0.8916666507720947\n",
      "Epoch [78/100], loss: 0.8929709196090698, acc: 0.8999999761581421\n",
      "Epoch [79/100], loss: 0.8904154896736145, acc: 0.9083333611488342\n",
      "Epoch [80/100], loss: 0.88789302110672, acc: 0.9083333611488342\n",
      "Epoch [81/100], loss: 0.8854064345359802, acc: 0.9083333611488342\n",
      "Epoch [82/100], loss: 0.8829447627067566, acc: 0.9083333611488342\n",
      "Epoch [83/100], loss: 0.8805074095726013, acc: 0.9083333611488342\n",
      "Epoch [84/100], loss: 0.8780907392501831, acc: 0.9083333611488342\n",
      "Epoch [85/100], loss: 0.8756985068321228, acc: 0.9083333611488342\n",
      "Epoch [86/100], loss: 0.8733319640159607, acc: 0.9166666865348816\n",
      "Epoch [87/100], loss: 0.8709828853607178, acc: 0.9166666865348816\n",
      "Epoch [88/100], loss: 0.8686438202857971, acc: 0.925000011920929\n",
      "Epoch [89/100], loss: 0.8663198947906494, acc: 0.925000011920929\n",
      "Epoch [90/100], loss: 0.864013135433197, acc: 0.9333333373069763\n",
      "Epoch [91/100], loss: 0.861714780330658, acc: 0.9333333373069763\n",
      "Epoch [92/100], loss: 0.8594406247138977, acc: 0.9333333373069763\n",
      "Epoch [93/100], loss: 0.85718834400177, acc: 0.9416666626930237\n",
      "Epoch [94/100], loss: 0.8549618124961853, acc: 0.9416666626930237\n",
      "Epoch [95/100], loss: 0.8527592420578003, acc: 0.9416666626930237\n",
      "Epoch [96/100], loss: 0.8505748510360718, acc: 0.9416666626930237\n",
      "Epoch [97/100], loss: 0.8484130501747131, acc: 0.9416666626930237\n",
      "Epoch [98/100], loss: 0.846272349357605, acc: 0.9416666626930237\n",
      "Epoch [99/100], loss: 0.8441609740257263, acc: 0.949999988079071\n",
      "Epoch [100/100], loss: 0.8420817852020264, acc: 0.949999988079071\n"
     ]
    }
   ],
   "source": [
    "#--- Definimos el número de épocas\n",
    "\n",
    "n_epoch  = 100\n",
    "\n",
    "#-- Convertimos los datos a tensores\n",
    "X_train_tensor = Variable(torch.from_numpy(X_train)).float()\n",
    "Y_train_tensor = Variable(torch.from_numpy(Y_train)).long()\n",
    "X_test_tensor  = Variable(torch.from_numpy(X_test)).float()\n",
    "Y_test_tensor  = Variable(torch.from_numpy(Y_test)).long()\n",
    "\n",
    "#-- Definimos párametros para almacenar la evalaución el entrenamiento de la red en función del número de épocas\n",
    "loss_list     = np.zeros(n_epoch)\n",
    "accuracy_list = np.zeros(n_epoch)\n",
    "\n",
    "#-- Iniciamos el entrenamiento\n",
    "for epoch in range(n_epoch):\n",
    "    Y_pred = model(X_train_tensor)\n",
    "    loss = criterion(Y_pred, Y_train_tensor)\n",
    "    loss_list[epoch] = loss.item()\n",
    "    \n",
    "    # Gradiente Cero\n",
    "    optimizer.zero_grad()\n",
    "\n",
    "    # Backpropagation\n",
    "    loss.backward()\n",
    "\n",
    "    # Nuevo paso\n",
    "    optimizer.step()\n",
    "    \n",
    "    correct = (torch.argmax(Y_pred, dim=1) == Y_train_tensor).type(torch.FloatTensor)\n",
    "    accuracy_list[epoch] = correct.mean()\n",
    "\n",
    "    print('Epoch [{}/{}], loss: {}, acc: {}'.format(epoch+1,n_epoch,loss_list[epoch],accuracy_list[epoch]))"
   ]
  },
  {
   "cell_type": "code",
   "execution_count": 8,
   "metadata": {},
   "outputs": [
    {
     "data": {
      "text/plain": [
       "tensor([0, 0, 1, 0, 0, 2, 1, 0, 0, 0, 2, 1, 1, 0, 0, 1, 2, 2, 1, 2, 1, 2, 1, 0,\n",
       "        2, 1, 0, 0, 0, 1, 2, 0, 0, 0, 1, 0, 1, 2, 0, 1, 2, 0, 2, 2, 1, 1, 2, 1,\n",
       "        0, 1, 2, 0, 0, 1, 2, 0, 2, 0, 0, 2, 1, 2, 2, 2, 2, 1, 0, 0, 1, 2, 0, 0,\n",
       "        0, 1, 2, 0, 2, 2, 0, 1, 1, 2, 1, 2, 0, 2, 1, 2, 1, 1, 1, 1, 1, 1, 0, 1,\n",
       "        2, 2, 0, 1, 2, 2, 0, 2, 0, 1, 2, 2, 1, 2, 1, 1, 2, 2, 0, 1, 1, 0, 1, 2])"
      ]
     },
     "execution_count": 8,
     "metadata": {},
     "output_type": "execute_result"
    }
   ],
   "source": [
    "torch.argmax(Y_pred, dim=1)"
   ]
  },
  {
   "cell_type": "code",
   "execution_count": 9,
   "metadata": {
    "colab": {
     "base_uri": "https://localhost:8080/",
     "height": 280
    },
    "id": "_KcUwOAdkKL-",
    "outputId": "d1665674-c593-4a61-82eb-c81793b2f424"
   },
   "outputs": [
    {
     "data": {
      "image/png": "[encoded data removed]",
      "text/plain": [
       "<Figure size 720x288 with 2 Axes>"
      ]
     },
     "metadata": {
      "needs_background": "light"
     },
     "output_type": "display_data"
    }
   ],
   "source": [
    "#-- Graficamos la precisión y la perdida para el set de entrenamiento\n",
    "fig = plt.figure(figsize=(10, 4))\n",
    "plt.subplot(1,2,1)\n",
    "plt.plot(accuracy_list)\n",
    "plt.ylabel(\"training accuracy\")\n",
    "plt.xlabel(\"epcohs\")\n",
    "plt.grid()\n",
    "\n",
    "plt.subplot(1,2,2)\n",
    "plt.plot(loss_list)\n",
    "plt.ylabel(\"training loss\")\n",
    "plt.xlabel(\"epochs\")\n",
    "plt.grid()\n",
    "plt.show()"
   ]
  },
  {
   "cell_type": "code",
   "execution_count": 10,
   "metadata": {
    "colab": {
     "base_uri": "https://localhost:8080/"
    },
    "id": "ty8WY5PuDDKb",
    "outputId": "d81b1c91-3d05-4e26-df39-d26f4133cfa2"
   },
   "outputs": [
    {
     "name": "stdout",
     "output_type": "stream",
     "text": [
      "Loss: 0.8118395209312439, Acc:1.0\n"
     ]
    }
   ],
   "source": [
    "#-- Evaluamos con el set de testeo\n",
    "\n",
    "Y_pred = model(X_test_tensor)\n",
    "loss = criterion(Y_pred, Y_test_tensor)\n",
    "correct = (torch.argmax(Y_pred, dim=1) == Y_test_tensor).type(torch.FloatTensor)\n",
    "\n",
    "print('Loss: {}, Acc:{}'.format(loss, correct.mean()))"
   ]
  }
 ],
 "metadata": {
  "colab": {
   "collapsed_sections": [],
   "name": "07_Arquitectura-RN.ipynb",
   "provenance": []
  },
  "kernelspec": {
   "display_name": "Python 3",
   "language": "python",
   "name": "python3"
  },
  "language_info": {
   "codemirror_mode": {
    "name": "ipython",
    "version": 3
   },
   "file_extension": ".py",
   "mimetype": "text/x-python",
   "name": "python",
   "nbconvert_exporter": "python",
   "pygments_lexer": "ipython3",
   "version": "3.7.10"
  }
 },
 "nbformat": 4,
 "nbformat_minor": 1
}
