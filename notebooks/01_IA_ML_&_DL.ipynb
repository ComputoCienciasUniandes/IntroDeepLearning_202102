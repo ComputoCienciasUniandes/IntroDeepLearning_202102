{
 "cells": [
  {
   "cell_type": "markdown",
   "metadata": {
    "id": "aJUxGERKxnsv"
   },
   "source": [
    "# Introducción al Deep Learning\n",
    "\n",
    "El Deep Learning (aprendizaje profundo) es un subconjunto de técnicas de Machine Learning (aprendizaje de máquina) que ha venido en crecimiento desde hace aproximadamente 10 años. A la vez, el aprendizaje de máquina es un subconjunto de la Artificial Intelligence (Inteligencia Artificial).\n",
    "\n",
    "![picture](https://drive.google.com/uc?id=1o2RV-EH-UTZp--iNAUqXu54BUOq0_TAl)\n",
    "\n",
    "**Fuente: AI & Machine Learning: The evolution, differences and connections - Kapil Tandon**\n"
   ]
  },
  {
   "cell_type": "markdown",
   "metadata": {
    "id": "nksN026v3Vwb"
   },
   "source": [
    "# Artificila Intelligence (AI)\n",
    "\n",
    "La AI es una rama de investigación dentro de las ciencias computacionales (Computer Science). El objetivo principal de la AI es simular la capacidad de adquisicióón de información, análisis de datos y toma de decisiones de los humanos. \n",
    "\n",
    "![](https://drive.google.com/uc?id=1Fbfnpk4vNqDQ47EEmanc7qzDtOsHlMny)\n",
    "\n",
    "\n",
    "**Inicios**\n",
    "\n",
    "La IA tuvo sus primeros pasos a finales de la década de 1950, comenzó como un simple reto de programar computadoras para que tuvieran la capacidad de resolver problemas que los humanos hacen con facilidad, pero que las computadoras no habían podido realizar hasta el momento.\n",
    "\n",
    "En 1950 **Allan Turing** consolidó el campo de la inteligencia artificial con su artículo *Computing Machinery and Intelligence*, en el que propuso una prueba concreta para determinar si una máquina era inteligente o no. A partir de su trabajo se hizo famosa la *Prueba de Turing* una prueba que evalua si un resultado proviene de una máquina o de un humano. Debido a su trabajo en este campo se le considera el padre de la Inteligencia Artificial.\n",
    "\n",
    "<br>\n",
    "\n",
    "**Estado del arte**\n",
    "\n",
    "De acuerdo a su objetivo inicial (simular las capacidades humanas) la AI a la fecha ha llegado a la capacidad de realizar algunas tareas difíciles generando soluciones repetitivas. Sin embargo, los avances de la AI han sido gigantes. La AI ha permeado diferentes aspectos de nuestras vidas, y lo ha hecho de forma tan natural que algunas veces ni siquiera sospechamos que hacemos uso de tecnologías basdas en este principio.\n",
    "\n",
    "<br>\n",
    "\n",
    "**Algunos Ejemplos**\n",
    "\n",
    "  1) Aplicaciones Diarias\n",
    "\n",
    "  * Clasificación de Spam en los emails\n",
    "\n",
    "  ![](https://drive.google.com/uc?id=1sn949OAO1r0dLIYAwXwsTqsHn0_2Hjjb)\n",
    "\n",
    "<br>\n",
    "\n",
    "  * Sugerencias de Netflix\n",
    "  \n",
    "  ![](https://drive.google.com/uc?id=1x2qTpa4L7sXxCnFQtI54mzqTyPCXvcEl)\n",
    "\n",
    "<br>\n",
    "\n",
    "2) Aplicaciones en Ciencia\n",
    "\n",
    "  * Búsqueda eficiente de candidatos a medicamentos.\n",
    "  \n",
    "  ![picture](https://drive.google.com/uc?id=1J4P54FRtNluvcWUn6A0sjtdrHEqQbgH1)\n",
    "\n",
    "<br>\n",
    "\n",
    "  * Segmentación de elementos quirúrgicos - [CinfonIA](https://cinfonia.uniandes.edu.co/)\n",
    "  \n",
    "  ![picture](https://drive.google.com/uc?id=10RCrH1iVgi5rjGhvT54wd1aWCU-tdXC4)\n",
    "\n",
    "<br>\n",
    "\n",
    "3) Aplicaciones en Ilustración y Arte\n",
    "\n",
    "  * Copiando estilos\n",
    "\n",
    "  ![pictures](https://drive.google.com/uc?id=1uR1miqmQTsNiYg3Qvl65htlG9JrkXiZJ)\n",
    "\n",
    "<br>\n",
    "\n",
    "  * Diseño de Fondos (NVIDIA) - [GauGAN](http://nvidia-research-mingyuliu.com/gaugan/)\n",
    "\n",
    "  ![pictures](https://drive.google.com/uc?id=1Vd6-cpJtaS696GA2u4he8f1RrR4y2Apm)\n",
    "\n",
    "<br>\n",
    "\n",
    "  * Creación Artificial de Rostros - [This person does not exists](https://thispersondoesnotexist.com/)\n",
    "\n",
    "  ![pictures](https://drive.google.com/uc?id=1JL_NGHjvwnEGOuItjfakW2YooYTT6i03)\n",
    "\n",
    "\n",
    "\n",
    "\n",
    "\n",
    "\n",
    "\n"
   ]
  },
  {
   "cell_type": "markdown",
   "metadata": {
    "id": "Iq7dHaNqZF1_"
   },
   "source": [
    "# Machine Learning (ML)\n",
    "\n",
    "El ML es un conjunto de algoritmos que tienen como objetivo la construcción de un modelo de aprendizaje entrenado, validado y testeado con datos previamente *procesados*. El modelo resultante del ciclo entrenamiento-validación-testeo es utilizado posteriormente con nuevos datos para realizar predicciones o tomar decisiones con base a la tarea explicita para la que fue diseñado el modelo.\n",
    "\n",
    "<br>\n",
    "\n",
    "En la etapa de entrenamiento el modelo aprende los features (caracteríísticas) de un conjunto de datos conocido como *datos de entrenamiento*, el modelo es mejorado (modificando los parametros del algoritmo) con un conjunto de *datos de validación* y finalmente evaluado (utilizando los parametros con los que se obtuvieron los mejores resultados) con *datos de testeo*. Estos tres conjuntos de datos son completamente diferentes, lo que garantiza que el algoritmo no esta repitiendo lo aprendido con los datos de entrenamiento, si no que realmente es capaz de extrapolar resultados para datos nuevos.\n",
    "\n",
    "<br>\n",
    "\n",
    "Existen dos mecanismos principales de ML:\n",
    "\n",
    "  * Supervised (Supervisado)\n",
    "\n",
    "    Consiste de algoritmos en los que los datos están etiquetados, es decir, un dato tiene una etiqueta que lo caracteriza. Esta etiqueta puede ser un clase (manzada, limón, tomáte) o un valor numérico. El objetivo del algoritmo es predecir la etiqueta que representa a un objeto dependiendo de los features del mismo. Este tipo de algortimos comunmente realizan tareas de **regresión** o **clasificación**.\n",
    "\n",
    "    ![](https://drive.google.com/uc?id=1HX4tsR5Ip9qHjg88SZGjarjnjWZD1yyw)\n",
    "\n",
    "  * Unsupervised (No Supervisado)\n",
    "\n",
    "    En constraste con el mecanismo supervisado, en el *no supervisado* el algoritmo no conoce las etiquetas de los datos y usa unicamente los features para tratar de identificar patrones. Comunmente este tipo de algortimos son usados para visualizar grandes volumenes de datos con alta dimensionalidad en espacios reducidos (**reducción de dimensionalidad**) e identificar agrupamientos de datos (**clustering**).\n",
    "\n",
    "    ![](https://drive.google.com/uc?id=1F3la5dHv9GH0tInKlGpwX4FVrHI7UXWd)\n",
    "\n"
   ]
  },
  {
   "cell_type": "markdown",
   "metadata": {
    "id": "EzKFn5S-4G6Q"
   },
   "source": [
    "# Deep Learning (DL)\n",
    "\n",
    "El DL es un conjunto de algoritmos de ML basados en **redes neuronales** que usa progresivamente multiples capas con la capacidad de extraer representaciones desde un bajo hasta un alto nivel a partir de la manipulación de los datos en crudo. \n",
    "\n",
    "La siguiente imagen ilustra un claro ejemplo de extracción de features. Mientras las primeras capas extraen patrones simples (diagonales, horizontales, circulos) las capas más profundas pueden identificar conceptos relevantes para un humano tal como partes de una cara.\n",
    "\n",
    "![](https://drive.google.com/uc?id=1l3vWmQWCQoF_406USXGOPXLFfJffDieV)\n",
    "\n",
    "\n",
    "Existen diferentes estructuras de Redes Neuronales y estas dependen de la tarea para la que fue diseñada. \n",
    "* Deep neural networks\n",
    "* Deep belief networks \n",
    "* Deep reinforcement learning \n",
    "* Recurrent neural networks \n",
    "* **Convolutional neural networks**\n",
    "\n",
    "<br>\n",
    "\n",
    "Al igual que los algoritmos de ML los métodos de DL son utilizados en tareas de **regresión** y **clasificación**, así como también son empleados para **reducción de dimensionalidad** y **clustering**.\n",
    "\n",
    "\n",
    "##Transferencia de Aprendizaje\n",
    "\n",
    "A diferencia de los algoritmos de ML los algoritmos de DL pueden ser reutilizados para nuevas tareas. Dado que los modelos de DL aprenden features a diferentes niveles en cada capa, la información localizada en cada capa (pesos, *weights*) pueden ser **transferidos** para resolver problemas nuevos sin la necesidad de entrenar desde cero. Esta técnica es conocidad como *Transfer Learning*.\n",
    "\n",
    "## Redes Adversariales Generativas\n",
    "\n",
    "Una de las aplicaciones más interesantes en el DL son las redes adversariales generativas (GANs - Generative Adversarial Networks), un par de redes que compiten mutuamente para generar datos nuevos que se parezcan a los reales. Mientras una red genera datos nuevos, la otra red discrimina la calidad del dato generado. El objetivo es que la red generadora produzca datos tan parecidos a los reales que la red discriminadora crea que es un dato real. \n",
    "\n",
    "## Algunos Ejemplos\n",
    "\n",
    "El DL tiene una gran variedad de aplicaciones, dentro de las más destacadas se encuentran: computer vision (CV), speech recognition (SR), natural language processing (NLP), machine translation (MT), bioinformatics, drug design, medical image analysis. Los resultados obtenidos utilizando DL son comparables e incluso sobrepasan los resultados de humanos expertos."
   ]
  },
  {
   "cell_type": "markdown",
   "metadata": {
    "id": "AGHhbaSU4wxP"
   },
   "source": [
    "# Herramientas Indispensables\n",
    "\n",
    "El desarrollo de algoritmos de AI a nivel investigativo requiere de las siguientes herramientas:\n",
    "\n",
    "  * Un sistema de control de versiones como [Github](https://github.com)\n",
    "  * Un lenguaje de programación como [Python](https://www.python.org/)\n",
    "  * Un ambiente de desarrollo como [Colab](https://colab.research.google.com/)\n",
    "\n",
    "![](https://drive.google.com/uc?id=1j_JvkdMjOVICtfWsQ0LxB3XQfkMvNn_P)"
   ]
  }
 ],
 "metadata": {
  "colab": {
   "collapsed_sections": [],
   "name": "01_IA_ML_&_DL.ipynb",
   "provenance": []
  },
  "kernelspec": {
   "display_name": "Python 3",
   "language": "python",
   "name": "python3"
  },
  "language_info": {
   "codemirror_mode": {
    "name": "ipython",
    "version": 3
   },
   "file_extension": ".py",
   "mimetype": "text/x-python",
   "name": "python",
   "nbconvert_exporter": "python",
   "pygments_lexer": "ipython3",
   "version": "3.7.10"
  }
 },
 "nbformat": 4,
 "nbformat_minor": 1
}
