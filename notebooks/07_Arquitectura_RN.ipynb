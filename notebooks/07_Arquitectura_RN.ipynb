{
  "nbformat": 4,
  "nbformat_minor": 0,
  "metadata": {
    "colab": {
      "name": "07_Arquitectura-RN.ipynb",
      "provenance": [],
      "collapsed_sections": []
    },
    "kernelspec": {
      "name": "python3",
      "display_name": "Python 3"
    },
    "language_info": {
      "name": "python"
    }
  },
  "cells": [
    {
      "cell_type": "markdown",
      "metadata": {
        "id": "CpOIFrRwECAM"
      },
      "source": [
        "# Arquitectura de Una Red Neuronal\n",
        "\n",
        "En resumen, la arquitectura de una ANN está definida por el número y la forma de sus capas. En el estado del arte de estas ANN esas arquitecturas suelen ser un poco complejas, con algunas capas saltando sobre otras capas o capas que retornan información de regreso a capas anteriores.\n",
        "\n",
        "En este notebook veremos un ejemplo sencillo de una ANN y cual es la función de cada una de las capas que la componen. Para diseñar esta ANN usaremos el framework [PyTorch](https://pytorch.org/) y el dataset estándar para la clasificación de tres especies de flores [IRIS](https://archive.ics.uci.edu/ml/datasets/Iris)."
      ]
    },
    {
      "cell_type": "markdown",
      "metadata": {
        "id": "ZwjzcjdKVRVs"
      },
      "source": [
        "# Ejercicio\n",
        "\n",
        "En este notebook construiremos una ANN sencilla para hacer un ejercicio de clasificación usando el dataset [IRIS](https://archive.ics.uci.edu/ml/datasets/Iris)."
      ]
    },
    {
      "cell_type": "code",
      "metadata": {
        "id": "Ge75HTieVNKa"
      },
      "source": [
        "#--- Importamos paquetes escenciales\n",
        "import numpy as np\n",
        "import matplotlib.pyplot as plt"
      ],
      "execution_count": 1,
      "outputs": []
    },
    {
      "cell_type": "code",
      "metadata": {
        "colab": {
          "base_uri": "https://localhost:8080/"
        },
        "id": "wJ1_uc7xWEh6",
        "outputId": "a7a7f0a8-9b47-4207-909d-828ec7b73e5b"
      },
      "source": [
        "from sklearn.datasets import load_iris\n",
        "from sklearn.model_selection import train_test_split\n",
        "from sklearn.preprocessing import StandardScaler\n",
        "\n",
        "iris = load_iris()\n",
        "iris.keys()"
      ],
      "execution_count": 2,
      "outputs": [
        {
          "output_type": "execute_result",
          "data": {
            "text/plain": [
              "dict_keys(['data', 'target', 'target_names', 'DESCR', 'feature_names', 'filename'])"
            ]
          },
          "metadata": {},
          "execution_count": 2
        }
      ]
    },
    {
      "cell_type": "code",
      "metadata": {
        "colab": {
          "base_uri": "https://localhost:8080/"
        },
        "id": "S_bpHB4MUkup",
        "outputId": "d39a5f90-09bb-45fb-e1bc-8247cff50147"
      },
      "source": [
        "#-- Extraemos la infromación más importante\n",
        "X = iris['data']\n",
        "Y = iris['target']\n",
        "names = iris['target_names']\n",
        "feature_names = iris['feature_names']\n",
        "\n",
        "#-- Normalizamos los datos para que tengan media 0 y desviación 1\n",
        "scaler = StandardScaler()\n",
        "X_scaled = scaler.fit_transform(X)\n",
        "\n",
        "#-- Dividimos los datos entre un conjunto de entrenamiento y testeo\n",
        "X_train, X_test, Y_train, Y_test = train_test_split(X_scaled, Y, test_size=0.2, random_state=42)\n",
        "\n",
        "#-- Visualizamos el tamaño de los datos de entrenamiento\n",
        "np.shape(X_train)"
      ],
      "execution_count": 3,
      "outputs": [
        {
          "output_type": "execute_result",
          "data": {
            "text/plain": [
              "(120, 4)"
            ]
          },
          "metadata": {},
          "execution_count": 3
        }
      ]
    },
    {
      "cell_type": "code",
      "metadata": {
        "colab": {
          "base_uri": "https://localhost:8080/",
          "height": 334
        },
        "id": "EP2LguctW7bh",
        "outputId": "2ed8f015-5d2d-4cbf-de7e-23e57a0134ef"
      },
      "source": [
        "#--Visualizamos los datos\n",
        "class0 = Y == 0\n",
        "class1 = Y == 1\n",
        "class2 = Y == 2\n",
        "\n",
        "\n",
        "fig = plt.figure(figsize=(10,5))\n",
        "plt.subplot(1,2,1)\n",
        "plt.plot(X_scaled[:,0][class0],X_scaled[:,1][class0],'o',c='red', label=names[0])\n",
        "plt.plot(X_scaled[:,0][class1],X_scaled[:,1][class1],'o',c='blue', label=names[1])\n",
        "plt.plot(X_scaled[:,0][class2],X_scaled[:,1][class2],'o',c='green', label=names[2])\n",
        "plt.grid()\n",
        "plt.legend()\n",
        "plt.xlabel(feature_names[0])\n",
        "plt.ylabel(feature_names[1])\n",
        "plt.subplot(1,2,2)\n",
        "plt.plot(X_scaled[:,2][class0],X_scaled[:,3][class0],'o',c='red', label=names[0])\n",
        "plt.plot(X_scaled[:,2][class1],X_scaled[:,3][class1],'o',c='blue', label=names[1])\n",
        "plt.plot(X_scaled[:,2][class2],X_scaled[:,3][class2],'o',c='green', label=names[2])\n",
        "plt.grid()\n",
        "plt.legend()\n",
        "plt.xlabel(feature_names[2])\n",
        "plt.ylabel(feature_names[3])\n",
        "plt.show()"
      ],
      "execution_count": 4,
      "outputs": [
        {
          "output_type": "display_data",
          "data": {
            "image/png": "[encoded data removed]",
            "text/plain": [
              "<Figure size 720x360 with 2 Axes>"
            ]
          },
          "metadata": {
            "needs_background": "light"
          }
        }
      ]
    },
    {
      "cell_type": "markdown",
      "metadata": {
        "id": "hTOprWXNmrTR"
      },
      "source": [
        "# Artificial Neural Network con Pytorch\n",
        "\n",
        "Vamos a crear una ANN de 3 capas lineales, las dos primeras tendrán funciones de activación tipo ReLU y la última una función de activación tipo Softmax."
      ]
    },
    {
      "cell_type": "code",
      "metadata": {
        "id": "cJ9KyXnnbZkh",
        "colab": {
          "base_uri": "https://localhost:8080/"
        },
        "outputId": "948211b8-2f10-4ba2-95fd-0596137227cc"
      },
      "source": [
        "#--- Importamos el paquete torch\n",
        "import torch\n",
        "from torch.autograd import Variable # Para convertir los datos a tensores\n",
        "\n",
        "#--- Definimos la secuencia de capas de la ANN\n",
        "input_dim = X_train.shape[1]\n",
        "model = torch.nn.Sequential(\n",
        "                torch.nn.Linear(input_dim, 50),\n",
        "                torch.nn.ReLU(),\n",
        "                torch.nn.Linear(50, 50),\n",
        "                torch.nn.ReLU(),\n",
        "                torch.nn.Linear(50, input_dim),\n",
        "                torch.nn.Softmax(dim=1)\n",
        "                )\n",
        "model"
      ],
      "execution_count": 5,
      "outputs": [
        {
          "output_type": "execute_result",
          "data": {
            "text/plain": [
              "Sequential(\n",
              "  (0): Linear(in_features=4, out_features=50, bias=True)\n",
              "  (1): ReLU()\n",
              "  (2): Linear(in_features=50, out_features=50, bias=True)\n",
              "  (3): ReLU()\n",
              "  (4): Linear(in_features=50, out_features=4, bias=True)\n",
              "  (5): Softmax(dim=1)\n",
              ")"
            ]
          },
          "metadata": {},
          "execution_count": 5
        }
      ]
    },
    {
      "cell_type": "code",
      "metadata": {
        "id": "bv8lkGEWjpbK"
      },
      "source": [
        "#-- Definimos el optimizador y el criterio de evaluación\n",
        "\n",
        "optimizer = torch.optim.Adam(model.parameters(), lr=0.001)\n",
        "criterion = torch.nn.CrossEntropyLoss()"
      ],
      "execution_count": 6,
      "outputs": []
    },
    {
      "cell_type": "code",
      "metadata": {
        "colab": {
          "base_uri": "https://localhost:8080/"
        },
        "id": "E7-Fq-bBjEOM",
        "outputId": "ff022449-6aa0-436a-8cdc-dc4aa11cd4e2"
      },
      "source": [
        "#--- Definimos el número de épocas\n",
        "\n",
        "n_epoch  = 100\n",
        "\n",
        "#-- Convertimos los datos a tensores\n",
        "X_train_tensor = Variable(torch.from_numpy(X_train)).float()\n",
        "Y_train_tensor = Variable(torch.from_numpy(Y_train)).long()\n",
        "X_test_tensor  = Variable(torch.from_numpy(X_test)).float()\n",
        "Y_test_tensor  = Variable(torch.from_numpy(Y_test)).long()\n",
        "\n",
        "#-- Definimos párametros para almacenar la evalaución el entrenamiento de la red en función del número de épocas\n",
        "loss_list     = np.zeros(n_epoch)\n",
        "accuracy_list = np.zeros(n_epoch)\n",
        "\n",
        "#-- Iniciamos el entrenamiento\n",
        "for epoch in range(n_epoch):\n",
        "    Y_pred = model(X_train_tensor)\n",
        "    loss = criterion(Y_pred, Y_train_tensor)\n",
        "    loss_list[epoch] = loss.item()\n",
        "    \n",
        "    # Gradiente Cero\n",
        "    optimizer.zero_grad()\n",
        "\n",
        "    # Backpropagation\n",
        "    loss.backward()\n",
        "\n",
        "    # Nuevo paso\n",
        "    optimizer.step()\n",
        "    \n",
        "    correct = (torch.argmax(Y_pred, dim=1) == Y_train_tensor).type(torch.FloatTensor)\n",
        "    accuracy_list[epoch] = correct.mean()\n",
        "\n",
        "    print('Epoch [{}/{}], loss: {}, acc: {}'.format(epoch+1,n_epoch,loss_list[epoch],accuracy_list[epoch]))"
      ],
      "execution_count": 7,
      "outputs": [
        {
          "output_type": "stream",
          "text": [
            "Epoch [1/100], loss: 1.3819819688796997, acc: 0.18333333730697632\n",
            "Epoch [2/100], loss: 1.3766793012619019, acc: 0.2750000059604645\n",
            "Epoch [3/100], loss: 1.3713324069976807, acc: 0.3499999940395355\n",
            "Epoch [4/100], loss: 1.3659329414367676, acc: 0.5083333253860474\n",
            "Epoch [5/100], loss: 1.3604167699813843, acc: 0.6166666746139526\n",
            "Epoch [6/100], loss: 1.354759931564331, acc: 0.7666666507720947\n",
            "Epoch [7/100], loss: 1.3489842414855957, acc: 0.7833333611488342\n",
            "Epoch [8/100], loss: 1.3430917263031006, acc: 0.8166666626930237\n",
            "Epoch [9/100], loss: 1.3370667695999146, acc: 0.8166666626930237\n",
            "Epoch [10/100], loss: 1.3308932781219482, acc: 0.8166666626930237\n",
            "Epoch [11/100], loss: 1.3245761394500732, acc: 0.824999988079071\n",
            "Epoch [12/100], loss: 1.3180879354476929, acc: 0.8166666626930237\n",
            "Epoch [13/100], loss: 1.311427354812622, acc: 0.8333333134651184\n",
            "Epoch [14/100], loss: 1.3045858144760132, acc: 0.824999988079071\n",
            "Epoch [15/100], loss: 1.297529935836792, acc: 0.824999988079071\n",
            "Epoch [16/100], loss: 1.2902493476867676, acc: 0.8333333134651184\n",
            "Epoch [17/100], loss: 1.2827318906784058, acc: 0.8416666388511658\n",
            "Epoch [18/100], loss: 1.2749727964401245, acc: 0.8666666746139526\n",
            "Epoch [19/100], loss: 1.2669533491134644, acc: 0.875\n",
            "Epoch [20/100], loss: 1.2586750984191895, acc: 0.8666666746139526\n",
            "Epoch [21/100], loss: 1.250159740447998, acc: 0.8666666746139526\n",
            "Epoch [22/100], loss: 1.241403579711914, acc: 0.8666666746139526\n",
            "Epoch [23/100], loss: 1.232395887374878, acc: 0.8583333492279053\n",
            "Epoch [24/100], loss: 1.223164677619934, acc: 0.8666666746139526\n",
            "Epoch [25/100], loss: 1.2137315273284912, acc: 0.8666666746139526\n",
            "Epoch [26/100], loss: 1.204099178314209, acc: 0.8666666746139526\n",
            "Epoch [27/100], loss: 1.1942744255065918, acc: 0.8583333492279053\n",
            "Epoch [28/100], loss: 1.1842740774154663, acc: 0.8500000238418579\n",
            "Epoch [29/100], loss: 1.1741501092910767, acc: 0.8416666388511658\n",
            "Epoch [30/100], loss: 1.1639320850372314, acc: 0.8416666388511658\n",
            "Epoch [31/100], loss: 1.1536533832550049, acc: 0.8416666388511658\n",
            "Epoch [32/100], loss: 1.1433535814285278, acc: 0.8333333134651184\n",
            "Epoch [33/100], loss: 1.1330485343933105, acc: 0.8333333134651184\n",
            "Epoch [34/100], loss: 1.122769832611084, acc: 0.8333333134651184\n",
            "Epoch [35/100], loss: 1.11257803440094, acc: 0.8333333134651184\n",
            "Epoch [36/100], loss: 1.102521300315857, acc: 0.8333333134651184\n",
            "Epoch [37/100], loss: 1.0926240682601929, acc: 0.8333333134651184\n",
            "Epoch [38/100], loss: 1.0829230546951294, acc: 0.8333333134651184\n",
            "Epoch [39/100], loss: 1.0734494924545288, acc: 0.8333333134651184\n",
            "Epoch [40/100], loss: 1.0642316341400146, acc: 0.8333333134651184\n",
            "Epoch [41/100], loss: 1.0552928447723389, acc: 0.8333333134651184\n",
            "Epoch [42/100], loss: 1.0466492176055908, acc: 0.8333333134651184\n",
            "Epoch [43/100], loss: 1.0383079051971436, acc: 0.8333333134651184\n",
            "Epoch [44/100], loss: 1.030282974243164, acc: 0.8333333134651184\n",
            "Epoch [45/100], loss: 1.0225797891616821, acc: 0.8333333134651184\n",
            "Epoch [46/100], loss: 1.0152006149291992, acc: 0.8333333134651184\n",
            "Epoch [47/100], loss: 1.0081499814987183, acc: 0.8333333134651184\n",
            "Epoch [48/100], loss: 1.00142502784729, acc: 0.8333333134651184\n",
            "Epoch [49/100], loss: 0.9950128793716431, acc: 0.8333333134651184\n",
            "Epoch [50/100], loss: 0.9889137148857117, acc: 0.8333333134651184\n",
            "Epoch [51/100], loss: 0.9831134080886841, acc: 0.8333333134651184\n",
            "Epoch [52/100], loss: 0.9775946140289307, acc: 0.8416666388511658\n",
            "Epoch [53/100], loss: 0.9723473191261292, acc: 0.8416666388511658\n",
            "Epoch [54/100], loss: 0.96736079454422, acc: 0.8416666388511658\n",
            "Epoch [55/100], loss: 0.9626233577728271, acc: 0.8416666388511658\n",
            "Epoch [56/100], loss: 0.958117663860321, acc: 0.8416666388511658\n",
            "Epoch [57/100], loss: 0.9538227319717407, acc: 0.8500000238418579\n",
            "Epoch [58/100], loss: 0.9497255086898804, acc: 0.8500000238418579\n",
            "Epoch [59/100], loss: 0.9458132386207581, acc: 0.8500000238418579\n",
            "Epoch [60/100], loss: 0.9420768618583679, acc: 0.8666666746139526\n",
            "Epoch [61/100], loss: 0.9385033845901489, acc: 0.8666666746139526\n",
            "Epoch [62/100], loss: 0.9350792169570923, acc: 0.8833333253860474\n",
            "Epoch [63/100], loss: 0.9317922592163086, acc: 0.8916666507720947\n",
            "Epoch [64/100], loss: 0.9286272525787354, acc: 0.8833333253860474\n",
            "Epoch [65/100], loss: 0.9255696535110474, acc: 0.8833333253860474\n",
            "Epoch [66/100], loss: 0.9226087927818298, acc: 0.8833333253860474\n",
            "Epoch [67/100], loss: 0.9197401404380798, acc: 0.8916666507720947\n",
            "Epoch [68/100], loss: 0.9169564843177795, acc: 0.8916666507720947\n",
            "Epoch [69/100], loss: 0.9142410159111023, acc: 0.8916666507720947\n",
            "Epoch [70/100], loss: 0.9115829467773438, acc: 0.8999999761581421\n",
            "Epoch [71/100], loss: 0.9089784622192383, acc: 0.8999999761581421\n",
            "Epoch [72/100], loss: 0.9064225554466248, acc: 0.8999999761581421\n",
            "Epoch [73/100], loss: 0.9039064645767212, acc: 0.8999999761581421\n",
            "Epoch [74/100], loss: 0.9014275670051575, acc: 0.8999999761581421\n",
            "Epoch [75/100], loss: 0.8989816904067993, acc: 0.8999999761581421\n",
            "Epoch [76/100], loss: 0.896562933921814, acc: 0.8999999761581421\n",
            "Epoch [77/100], loss: 0.894175112247467, acc: 0.9083333611488342\n",
            "Epoch [78/100], loss: 0.8918183445930481, acc: 0.9083333611488342\n",
            "Epoch [79/100], loss: 0.8894864916801453, acc: 0.9083333611488342\n",
            "Epoch [80/100], loss: 0.8871746063232422, acc: 0.9083333611488342\n",
            "Epoch [81/100], loss: 0.8848775029182434, acc: 0.9083333611488342\n",
            "Epoch [82/100], loss: 0.8825924396514893, acc: 0.9083333611488342\n",
            "Epoch [83/100], loss: 0.8803249597549438, acc: 0.9083333611488342\n",
            "Epoch [84/100], loss: 0.8780752420425415, acc: 0.9083333611488342\n",
            "Epoch [85/100], loss: 0.8758405447006226, acc: 0.9083333611488342\n",
            "Epoch [86/100], loss: 0.8736208081245422, acc: 0.9083333611488342\n",
            "Epoch [87/100], loss: 0.8714169859886169, acc: 0.9166666865348816\n",
            "Epoch [88/100], loss: 0.869225800037384, acc: 0.9166666865348816\n",
            "Epoch [89/100], loss: 0.8670524954795837, acc: 0.9333333373069763\n",
            "Epoch [90/100], loss: 0.8648919463157654, acc: 0.9333333373069763\n",
            "Epoch [91/100], loss: 0.8627519607543945, acc: 0.9333333373069763\n",
            "Epoch [92/100], loss: 0.8606327176094055, acc: 0.9333333373069763\n",
            "Epoch [93/100], loss: 0.8585348725318909, acc: 0.9333333373069763\n",
            "Epoch [94/100], loss: 0.8564623594284058, acc: 0.9416666626930237\n",
            "Epoch [95/100], loss: 0.8544164299964905, acc: 0.9416666626930237\n",
            "Epoch [96/100], loss: 0.8523935675621033, acc: 0.9416666626930237\n",
            "Epoch [97/100], loss: 0.8503901958465576, acc: 0.9416666626930237\n",
            "Epoch [98/100], loss: 0.8484169244766235, acc: 0.9416666626930237\n",
            "Epoch [99/100], loss: 0.8464750051498413, acc: 0.9416666626930237\n",
            "Epoch [100/100], loss: 0.8445661067962646, acc: 0.9416666626930237\n"
          ],
          "name": "stdout"
        }
      ]
    },
    {
      "cell_type": "code",
      "metadata": {
        "colab": {
          "base_uri": "https://localhost:8080/",
          "height": 280
        },
        "id": "_KcUwOAdkKL-",
        "outputId": "d1665674-c593-4a61-82eb-c81793b2f424"
      },
      "source": [
        "#-- Graficamos la precisión y la perdida para el set de entrenamiento\n",
        "fig = plt.figure(figsize=(10, 4))\n",
        "plt.subplot(1,2,1)\n",
        "plt.plot(accuracy_list)\n",
        "plt.ylabel(\"training accuracy\")\n",
        "plt.xlabel(\"epcohs\")\n",
        "plt.grid()\n",
        "\n",
        "plt.subplot(1,2,2)\n",
        "plt.plot(loss_list)\n",
        "plt.ylabel(\"training loss\")\n",
        "plt.xlabel(\"epochs\")\n",
        "plt.grid()\n",
        "plt.show()"
      ],
      "execution_count": 8,
      "outputs": [
        {
          "output_type": "display_data",
          "data": {
            "image/png": "[encoded data removed]",
            "text/plain": [
              "<Figure size 720x288 with 2 Axes>"
            ]
          },
          "metadata": {
            "needs_background": "light"
          }
        }
      ]
    },
    {
      "cell_type": "code",
      "metadata": {
        "colab": {
          "base_uri": "https://localhost:8080/"
        },
        "id": "ty8WY5PuDDKb",
        "outputId": "d81b1c91-3d05-4e26-df39-d26f4133cfa2"
      },
      "source": [
        "#-- Evaluamos con el set de testeo\n",
        "\n",
        "Y_pred = model(X_test_tensor)\n",
        "loss = criterion(Y_pred, Y_test_tensor)\n",
        "correct = (torch.argmax(Y_pred, dim=1) == Y_test_tensor).type(torch.FloatTensor)\n",
        "\n",
        "print('Loss: {}, Acc:{}'.format(loss, correct.mean()))"
      ],
      "execution_count": 9,
      "outputs": [
        {
          "output_type": "stream",
          "text": [
            "Loss: 0.8162540793418884, Acc:0.9666666388511658\n"
          ],
          "name": "stdout"
        }
      ]
    }
  ]
}