{
  "nbformat": 4,
  "nbformat_minor": 0,
  "metadata": {
    "colab": {
      "name": "09_Entrenamiento_Validación_Testeo.ipynb",
      "provenance": [],
      "collapsed_sections": []
    },
    "kernelspec": {
      "name": "python3",
      "display_name": "Python 3"
    },
    "language_info": {
      "name": "python"
    }
  },
  "cells": [
    {
      "cell_type": "markdown",
      "metadata": {
        "id": "IDxDlhH7hOHI"
      },
      "source": [
        "# Imágenes como conjuntos de datos\n",
        "\n",
        "Las imágenes son un tipo de datos fundamental para un cientifíco de datos que resuelve tareas de visión por computador. A diferencia de otro tipo de datos las imágenes son multidimensionales y contienen información enriquecida además de unicamente su tamaño (alto x ancho). Cada pixel contiene tambiéén la información de su intensidad, de modo que un objeto tipo imagen tiene un tamaño (alto,ancho) y por cada coordenada un valor de intensidad en una escala de 0 a 1. \n",
        "\n",
        "![](https://drive.google.com/uc?id=1-CFgFy0f6Mkb0496sb4MgR60SoCX-F9_)\n",
        "\n",
        "\n",
        "Por otro lado las imágenes a color tienen 3 canales diferentes (asociado a las escalas RGB - Rojo, Verde y azul), de modo que el tamaño de un objeto tipo imagen a color es (alto, ancho, canales) donde cada pixel contiene la información de intensidad en las escalas rojo, azul y verde. Esta escala varía entre 0 y 255 a diferencia de la escala de grises.\n",
        "\n",
        "\n",
        "![](https://drive.google.com/uc?id=18Txu65iVgA08Gq7xjLxZp8s3A3N1GnEp)\n",
        "\n",
        "\n",
        "Algunas imágenes continen un cuarto canal asociado al brillo de cada pixel, en este caso en nemero de canales es 4 y se les reconoce como las escalas RGBA.\n",
        "\n"
      ]
    },
    {
      "cell_type": "markdown",
      "metadata": {
        "id": "GOQeGzibmAom"
      },
      "source": [
        "# Ejercicio\n",
        "\n",
        "En este notebook identificaremos uno de los errores más comúnes al momento de entrenar modelos de aprendizaje; el cruce de datos de entrenamiento y evaluación. \n",
        "\n",
        "Para identificar este error visualizaremos curvas de *loss*, *f1_score* y *accuracy*."
      ]
    },
    {
      "cell_type": "markdown",
      "metadata": {
        "id": "asvM4ni6nAKj"
      },
      "source": [
        "## Leer los datos tipo imágenes"
      ]
    },
    {
      "cell_type": "code",
      "metadata": {
        "id": "OQ0QZRQpcguq"
      },
      "source": [
        "#-- Descomprimimos el dataset\n",
        "# !rm -r mnist\n",
        "# !unzip mnist.zip"
      ],
      "execution_count": null,
      "outputs": []
    },
    {
      "cell_type": "code",
      "metadata": {
        "colab": {
          "base_uri": "https://localhost:8080/",
          "height": 35
        },
        "id": "24ZCQXhvclM1",
        "outputId": "63ca57b2-fc95-450c-96df-1e97859486da"
      },
      "source": [
        "#--- Buscamos las direcciones de cada archivo de imagen\n",
        "from glob import glob\n",
        "\n",
        "train_files = glob('./mnist/train/*/*.png')\n",
        "valid_files = glob('./mnist/valid/*/*.png')\n",
        "test_files = glob('./mnist/test/*/*.png')\n",
        "\n",
        "train_files[0]"
      ],
      "execution_count": null,
      "outputs": [
        {
          "output_type": "execute_result",
          "data": {
            "application/vnd.google.colaboratory.intrinsic+json": {
              "type": "string"
            },
            "text/plain": [
              "'./mnist/train/8/2213.png'"
            ]
          },
          "metadata": {},
          "execution_count": 4
        }
      ]
    },
    {
      "cell_type": "code",
      "metadata": {
        "colab": {
          "base_uri": "https://localhost:8080/"
        },
        "id": "xMIFs2kPcrlA",
        "outputId": "5b188f9f-02c9-487a-ffdc-45912bbfdcce"
      },
      "source": [
        "#--- Ordenamos los datos de forma aleatoria para evitar sesgos\n",
        "import numpy as np\n",
        "\n",
        "np.random.shuffle(train_files)\n",
        "np.random.shuffle(valid_files)\n",
        "np.random.shuffle(test_files)\n",
        "\n",
        "len(train_files), len(valid_files), len(test_files)"
      ],
      "execution_count": null,
      "outputs": [
        {
          "output_type": "execute_result",
          "data": {
            "text/plain": [
              "(6000, 2000, 992)"
            ]
          },
          "metadata": {},
          "execution_count": 5
        }
      ]
    },
    {
      "cell_type": "markdown",
      "metadata": {
        "id": "Lci2peOsndSo"
      },
      "source": [
        "## Primer caso: Sin cruce"
      ]
    },
    {
      "cell_type": "code",
      "metadata": {
        "id": "QqLdVZDBcugC"
      },
      "source": [
        "#--- Cargamos los datos de entrenamiento en listas\n",
        "from PIL import Image\n",
        "\n",
        "N_train = len(train_files)\n",
        "X_train = []\n",
        "Y_train = []\n",
        "\n",
        "for i, train_file in enumerate(train_files):\n",
        "  Y_train.append( int(train_file.split('/')[3]) )\n",
        "  X_train.append(np.array(Image.open(train_file)))"
      ],
      "execution_count": null,
      "outputs": []
    },
    {
      "cell_type": "code",
      "metadata": {
        "id": "1WepuhFdcxzR"
      },
      "source": [
        "#--- Cargamos los datos de validación en listas\n",
        "N_valid = len(valid_files)\n",
        "X_valid = []\n",
        "Y_valid = []\n",
        "\n",
        "for i, valid_file in enumerate(valid_files):\n",
        "  Y_valid.append( int(valid_file.split('/')[3]) )\n",
        "  X_valid.append( np.array(Image.open(valid_file)) )"
      ],
      "execution_count": null,
      "outputs": []
    },
    {
      "cell_type": "code",
      "metadata": {
        "id": "Q8fJpRkwc4ew"
      },
      "source": [
        "#--- Cargamos los datos de testeo en listas\n",
        "N_test = len(test_files)\n",
        "X_test = []\n",
        "Y_test = []\n",
        "\n",
        "for i, test_file in enumerate(test_files):\n",
        "  Y_test.append( int(test_file.split('/')[3]) )\n",
        "  X_test.append( np.array(Image.open(test_file)) )"
      ],
      "execution_count": null,
      "outputs": []
    },
    {
      "cell_type": "code",
      "metadata": {
        "colab": {
          "base_uri": "https://localhost:8080/"
        },
        "id": "NVNJ8-zDc7Di",
        "outputId": "99577e6e-6b8d-43f9-97f4-838125b4add7"
      },
      "source": [
        "#--- Visualizamos el tamaño de cada subset\n",
        "len(X_train), len(X_valid), len(X_test)"
      ],
      "execution_count": null,
      "outputs": [
        {
          "output_type": "execute_result",
          "data": {
            "text/plain": [
              "(6000, 2000, 992)"
            ]
          },
          "metadata": {},
          "execution_count": 9
        }
      ]
    },
    {
      "cell_type": "code",
      "metadata": {
        "colab": {
          "base_uri": "https://localhost:8080/",
          "height": 350
        },
        "id": "z_80vrAfdBX5",
        "outputId": "1b050a99-e3e1-4d84-d3c5-d1fa3f8145bd"
      },
      "source": [
        "#--- Visualizamos la distribución de clases en cada subset\n",
        "from PIL import Image\n",
        "import matplotlib.pyplot as plt\n",
        "\n",
        "fig = plt.figure(figsize=(15,5))\n",
        "plt.subplot(1,3,1)\n",
        "plt.hist(np.sort(Y_train))\n",
        "plt.xlabel('class')\n",
        "plt.ylabel('counts')\n",
        "plt.title('Train set')\n",
        "\n",
        "plt.subplot(1,3,2)\n",
        "plt.hist(np.sort(Y_valid))\n",
        "plt.xlabel('class')\n",
        "plt.ylabel('counts')\n",
        "plt.title('Valid set')\n",
        "\n",
        "plt.subplot(1,3,3)\n",
        "plt.hist(np.sort(Y_test))\n",
        "plt.xlabel('class')\n",
        "plt.ylabel('counts')\n",
        "plt.title('Test set')\n",
        "\n",
        "plt.show()"
      ],
      "execution_count": null,
      "outputs": [
        {
          "output_type": "display_data",
          "data": {
            "image/png": "[encoded data removed]",
            "text/plain": [
              "<Figure size 1080x360 with 3 Axes>"
            ]
          },
          "metadata": {
            "needs_background": "light"
          }
        }
      ]
    },
    {
      "cell_type": "markdown",
      "metadata": {
        "id": "ptnzwQ91rFRe"
      },
      "source": [
        "Este dataset cuenta con un total de 900 objetos por clase (600 para entrenamiento, 200 para validación y 100 para testeo), este es un ejemplo donde las clases están balanceadas, no siempre se tendrán datos de esta forma. \n",
        "\n",
        "Considerando el total de datos de este dataset,~66% son datos de entrenamiento, otro ~22% de validación y un ~11% para testeo. Esto representa un buen ejemplo de cómo distribuir los datos para entrenar sus modelos."
      ]
    },
    {
      "cell_type": "code",
      "metadata": {
        "colab": {
          "base_uri": "https://localhost:8080/",
          "height": 482
        },
        "id": "F1LhNptOdFNO",
        "outputId": "89849955-523a-4a64-dacc-d7d5eee9e4a7"
      },
      "source": [
        "#-- Visualizamos los datos\n",
        "fig = plt.figure(figsize=(8,8))\n",
        "for i in range(4):\n",
        "  plt.subplot(2,2,i+1)\n",
        "  plt.imshow(X_test[i*15])\n",
        "  plt.title(Y_test[i*15])\n",
        "  plt.axis(False)\n",
        "plt.show()"
      ],
      "execution_count": null,
      "outputs": [
        {
          "output_type": "display_data",
          "data": {
            "image/png": "[encoded data removed]",
            "text/plain": [
              "<Figure size 576x576 with 4 Axes>"
            ]
          },
          "metadata": {
            "needs_background": "light"
          }
        }
      ]
    },
    {
      "cell_type": "code",
      "metadata": {
        "colab": {
          "base_uri": "https://localhost:8080/"
        },
        "id": "SsHBxUumdIQF",
        "outputId": "e37d564a-18ea-4e75-a644-6140827ad988"
      },
      "source": [
        "#--- Convertimos las listas de datos a tensores de torch\n",
        "import torch\n",
        "from torch.autograd import Variable\n",
        "\n",
        "X_train = Variable(torch.from_numpy(np.array(X_train))).float()\n",
        "Y_train = Variable(torch.from_numpy(np.array(Y_train))).long()\n",
        "\n",
        "X_valid = Variable(torch.from_numpy(np.array(X_valid))).float()\n",
        "Y_valid = Variable(torch.from_numpy(np.array(Y_valid))).long()\n",
        "\n",
        "X_test = Variable(torch.from_numpy(np.array(X_test))).float()\n",
        "Y_test = Variable(torch.from_numpy(np.array(Y_test))).long()\n",
        "\n",
        "X_train.data.size()"
      ],
      "execution_count": null,
      "outputs": [
        {
          "output_type": "execute_result",
          "data": {
            "text/plain": [
              "torch.Size([6000, 28, 28])"
            ]
          },
          "metadata": {},
          "execution_count": 12
        }
      ]
    },
    {
      "cell_type": "code",
      "metadata": {
        "id": "xtJ2caCadbZ7"
      },
      "source": [
        "#--- Definimos una ANN con dos capas ocultas lineales de 100 neuronas\n",
        "\n",
        "input_dim = 28*28\n",
        "out_dim = 10\n",
        "hidden = 100\n",
        "\n",
        "model = torch.nn.Sequential(\n",
        "  torch.nn.Linear(input_dim, hidden),\n",
        "  torch.nn.ReLU(),       \n",
        "  torch.nn.Linear(hidden, out_dim)\n",
        ")\n",
        "\n",
        "optimizer = torch.optim.Adam(model.parameters())\n",
        "criterion = torch.nn.CrossEntropyLoss()"
      ],
      "execution_count": null,
      "outputs": []
    },
    {
      "cell_type": "code",
      "metadata": {
        "colab": {
          "base_uri": "https://localhost:8080/"
        },
        "id": "3D84ODDhdKlC",
        "outputId": "2cd3388d-0a50-4dba-bca1-7c40de438419"
      },
      "source": [
        "from sklearn.metrics import f1_score # Nueva métrica (La revisaremos la próóxima sesión)\n",
        "\n",
        "#-- Número de épocas\n",
        "n_epoch = 100\n",
        "\n",
        "#-- Listas de evaluación entrenamiento\n",
        "loss_train = []\n",
        "f1_train = []\n",
        "acc_train = []\n",
        "\n",
        "#-- Listas de evaluación validación\n",
        "loss_valid = []\n",
        "f1_valid = []\n",
        "acc_valid = []\n",
        "\n",
        "#-- Entrenamineto de la ANN\n",
        "for epoch in range(n_epoch):\n",
        "  model.train()\n",
        "  \n",
        "  Xtr = X_train.view(X_train.size(0), -1)\n",
        "  Y_pred = model(Xtr)\n",
        "\n",
        "  loss = criterion(Y_pred,Y_train)\n",
        "  loss_train.append(loss.item())\n",
        "\n",
        "  Y_pred = torch.argmax(Y_pred, 1)\n",
        "  f1_train.append( f1_score(Y_train,Y_pred, average='macro') )\n",
        "  \n",
        "  acc = sum(Y_train == Y_pred)/len(Y_pred)\n",
        "  acc_train.append(acc)\n",
        "\n",
        "  optimizer.zero_grad()\n",
        "  loss.backward()\n",
        "  optimizer.step()\n",
        "\n",
        "  print( 'Epoch [{}/{}], loss: {}. f1:{} acc: {} '.format(epoch+1,n_epoch,loss_train[-1], f1_train[-1], acc_train[-1]) )\n",
        "\n",
        "  model.eval()\n",
        "  Xvl = X_valid.view(X_valid.size(0), -1)\n",
        "  Y_pred = model(Xvl)  \n",
        "  loss = criterion(Y_pred,Y_valid)\n",
        "  loss_valid.append(loss.item())\n",
        "\n",
        "  Y_pred = torch.argmax(Y_pred, 1)\n",
        "  f1_valid.append( f1_score(Y_valid, Y_pred, average='macro') )\n",
        "\n",
        "  acc = sum(Y_valid == Y_pred)/len(Y_pred)\n",
        "  acc_valid.append(acc)  "
      ],
      "execution_count": null,
      "outputs": [
        {
          "output_type": "stream",
          "text": [
            "Epoch [1/100], loss: 30.726638793945312. f1:0.049693729428166654 acc: 0.0860000029206276 \n",
            "Epoch [2/100], loss: 20.70538902282715. f1:0.14150775958272083 acc: 0.1678333282470703 \n",
            "Epoch [3/100], loss: 13.299518585205078. f1:0.29652565852112506 acc: 0.32466667890548706 \n",
            "Epoch [4/100], loss: 9.05010986328125. f1:0.4265155653965538 acc: 0.44216665625572205 \n",
            "Epoch [5/100], loss: 6.72088098526001. f1:0.512917898645197 acc: 0.5261666774749756 \n",
            "Epoch [6/100], loss: 4.147376537322998. f1:0.6346126650189834 acc: 0.6299999952316284 \n",
            "Epoch [7/100], loss: 2.903877019882202. f1:0.7238329840510183 acc: 0.7179999947547913 \n",
            "Epoch [8/100], loss: 2.6643669605255127. f1:0.7485212677023363 acc: 0.7446666955947876 \n",
            "Epoch [9/100], loss: 2.664947748184204. f1:0.764006646686188 acc: 0.7601666450500488 \n",
            "Epoch [10/100], loss: 2.571340799331665. f1:0.7799061668530651 acc: 0.7774999737739563 \n",
            "Epoch [11/100], loss: 2.298602342605591. f1:0.8003469423517438 acc: 0.8011666536331177 \n",
            "Epoch [12/100], loss: 2.014052391052246. f1:0.8229214610524653 acc: 0.8245000243186951 \n",
            "Epoch [13/100], loss: 1.7990456819534302. f1:0.8380812768724286 acc: 0.8395000100135803 \n",
            "Epoch [14/100], loss: 1.656550645828247. f1:0.8513314198829282 acc: 0.8519999980926514 \n",
            "Epoch [15/100], loss: 1.5738760232925415. f1:0.857412873593751 acc: 0.8575000166893005 \n",
            "Epoch [16/100], loss: 1.521821141242981. f1:0.8584286795396524 acc: 0.8583333492279053 \n",
            "Epoch [17/100], loss: 1.4726907014846802. f1:0.861557648746972 acc: 0.8613333106040955 \n",
            "Epoch [18/100], loss: 1.41508150100708. f1:0.866919481227367 acc: 0.8665000200271606 \n",
            "Epoch [19/100], loss: 1.3447797298431396. f1:0.873298369755077 acc: 0.8730000257492065 \n",
            "Epoch [20/100], loss: 1.2709324359893799. f1:0.8769361897318859 acc: 0.8766666650772095 \n",
            "Epoch [21/100], loss: 1.1978974342346191. f1:0.8797516275922007 acc: 0.8794999718666077 \n",
            "Epoch [22/100], loss: 1.1277821063995361. f1:0.8825079498886904 acc: 0.8823333382606506 \n",
            "Epoch [23/100], loss: 1.0575498342514038. f1:0.8874221532056195 acc: 0.887333333492279 \n",
            "Epoch [24/100], loss: 0.9857532382011414. f1:0.8926854352376943 acc: 0.8926666378974915 \n",
            "Epoch [25/100], loss: 0.9162998199462891. f1:0.8938351109798983 acc: 0.893833339214325 \n",
            "Epoch [26/100], loss: 0.8580935597419739. f1:0.8982802952495718 acc: 0.8983333110809326 \n",
            "Epoch [27/100], loss: 0.8149870038032532. f1:0.8988527463914275 acc: 0.8988333344459534 \n",
            "Epoch [28/100], loss: 0.7828218340873718. f1:0.9010210347383637 acc: 0.9010000228881836 \n",
            "Epoch [29/100], loss: 0.754826009273529. f1:0.9040218950523405 acc: 0.9039999842643738 \n",
            "Epoch [30/100], loss: 0.7249510884284973. f1:0.906298263735011 acc: 0.906333327293396 \n",
            "Epoch [31/100], loss: 0.6911903619766235. f1:0.906633476235805 acc: 0.9066666960716248 \n",
            "Epoch [32/100], loss: 0.6562462449073792. f1:0.9099559151481135 acc: 0.9100000262260437 \n",
            "Epoch [33/100], loss: 0.6240002512931824. f1:0.9125811456008026 acc: 0.9126666784286499 \n",
            "Epoch [34/100], loss: 0.5960838794708252. f1:0.9134903700922727 acc: 0.9136666655540466 \n",
            "Epoch [35/100], loss: 0.5712679028511047. f1:0.9156234010130138 acc: 0.9158333539962769 \n",
            "Epoch [36/100], loss: 0.5472159385681152. f1:0.9188160556079955 acc: 0.9190000295639038 \n",
            "Epoch [37/100], loss: 0.5230125188827515. f1:0.9211591543106172 acc: 0.9213333129882812 \n",
            "Epoch [38/100], loss: 0.4986652433872223. f1:0.9220510740010169 acc: 0.922166645526886 \n",
            "Epoch [39/100], loss: 0.47549235820770264. f1:0.9247831596449114 acc: 0.924833357334137 \n",
            "Epoch [40/100], loss: 0.45426830649375916. f1:0.9270038271670022 acc: 0.9269999861717224 \n",
            "Epoch [41/100], loss: 0.43502041697502136. f1:0.9298923867108769 acc: 0.9298333525657654 \n",
            "Epoch [42/100], loss: 0.41677823662757874. f1:0.9324152311690865 acc: 0.9323333501815796 \n",
            "Epoch [43/100], loss: 0.39813220500946045. f1:0.9344192854184884 acc: 0.934333324432373 \n",
            "Epoch [44/100], loss: 0.37895482778549194. f1:0.9377050342108895 acc: 0.937666654586792 \n",
            "Epoch [45/100], loss: 0.36014485359191895. f1:0.9395053748916983 acc: 0.9394999742507935 \n",
            "Epoch [46/100], loss: 0.3427700102329254. f1:0.9403128542180287 acc: 0.9403333067893982 \n",
            "Epoch [47/100], loss: 0.327396959066391. f1:0.9416385722329764 acc: 0.9416666626930237 \n",
            "Epoch [48/100], loss: 0.3134595453739166. f1:0.9442936613902339 acc: 0.9443333148956299 \n",
            "Epoch [49/100], loss: 0.3001968264579773. f1:0.944459401286017 acc: 0.9445000290870667 \n",
            "Epoch [50/100], loss: 0.2871204912662506. f1:0.9464551524736862 acc: 0.9465000033378601 \n",
            "Epoch [51/100], loss: 0.2743367850780487. f1:0.9479632620046958 acc: 0.9480000138282776 \n",
            "Epoch [52/100], loss: 0.26218482851982117. f1:0.9494687191809789 acc: 0.9495000243186951 \n",
            "Epoch [53/100], loss: 0.2508109509944916. f1:0.9518131362545519 acc: 0.9518333077430725 \n",
            "Epoch [54/100], loss: 0.24001829326152802. f1:0.9538267463788515 acc: 0.9538333415985107 \n",
            "Epoch [55/100], loss: 0.22949674725532532. f1:0.9561524267516402 acc: 0.956166684627533 \n",
            "Epoch [56/100], loss: 0.21919706463813782. f1:0.9578105132428952 acc: 0.9578333497047424 \n",
            "Epoch [57/100], loss: 0.2093134969472885. f1:0.9581402664972212 acc: 0.9581666588783264 \n",
            "Epoch [58/100], loss: 0.2001371830701828. f1:0.9594610719546763 acc: 0.9595000147819519 \n",
            "Epoch [59/100], loss: 0.1916487216949463. f1:0.962294683624294 acc: 0.9623333215713501 \n",
            "Epoch [60/100], loss: 0.18372094631195068. f1:0.9637968761763156 acc: 0.9638333320617676 \n",
            "Epoch [61/100], loss: 0.17616036534309387. f1:0.9654703066668187 acc: 0.965499997138977 \n",
            "Epoch [62/100], loss: 0.1689089983701706. f1:0.9666450828199542 acc: 0.9666666388511658 \n",
            "Epoch [63/100], loss: 0.16189846396446228. f1:0.9683249256577285 acc: 0.9683333039283752 \n",
            "Epoch [64/100], loss: 0.15537096560001373. f1:0.9688241474571362 acc: 0.968833327293396 \n",
            "Epoch [65/100], loss: 0.14924398064613342. f1:0.9699845423444919 acc: 0.9700000286102295 \n",
            "Epoch [66/100], loss: 0.14341458678245544. f1:0.970483166837744 acc: 0.9704999923706055 \n",
            "Epoch [67/100], loss: 0.13780023157596588. f1:0.971653386247849 acc: 0.971666693687439 \n",
            "Epoch [68/100], loss: 0.13237816095352173. f1:0.9723138145160295 acc: 0.9723333120346069 \n",
            "Epoch [69/100], loss: 0.12721295654773712. f1:0.973145305368945 acc: 0.9731666445732117 \n",
            "Epoch [70/100], loss: 0.12239333242177963. f1:0.973984601206188 acc: 0.9739999771118164 \n",
            "Epoch [71/100], loss: 0.11787575483322144. f1:0.9748182429249145 acc: 0.9748333096504211 \n",
            "Epoch [72/100], loss: 0.11357519775629044. f1:0.976657544059982 acc: 0.9766666889190674 \n",
            "Epoch [73/100], loss: 0.10947088897228241. f1:0.9776631924598304 acc: 0.9776666760444641 \n",
            "Epoch [74/100], loss: 0.10551981627941132. f1:0.9786617651263972 acc: 0.9786666631698608 \n",
            "Epoch [75/100], loss: 0.10173802822828293. f1:0.9793240196130508 acc: 0.9793333411216736 \n",
            "Epoch [76/100], loss: 0.09812557697296143. f1:0.9794899120636703 acc: 0.9794999957084656 \n",
            "Epoch [77/100], loss: 0.09469510614871979. f1:0.9804901788928417 acc: 0.9804999828338623 \n",
            "Epoch [78/100], loss: 0.09139436483383179. f1:0.9806570909546869 acc: 0.9806666374206543 \n",
            "Epoch [79/100], loss: 0.08821374177932739. f1:0.9816579590254362 acc: 0.9816666841506958 \n",
            "Epoch [80/100], loss: 0.08516448736190796. f1:0.9823258546850623 acc: 0.9823333621025085 \n",
            "Epoch [81/100], loss: 0.08225202560424805. f1:0.9826566761234545 acc: 0.9826666712760925 \n",
            "Epoch [82/100], loss: 0.07946401834487915. f1:0.9838242007141413 acc: 0.9838333129882812 \n",
            "Epoch [83/100], loss: 0.07678084820508957. f1:0.9836561441431968 acc: 0.9836666584014893 \n",
            "Epoch [84/100], loss: 0.07417862862348557. f1:0.9848261470773384 acc: 0.9848333597183228 \n",
            "Epoch [85/100], loss: 0.07166934758424759. f1:0.9853255512335674 acc: 0.9853333234786987 \n",
            "Epoch [86/100], loss: 0.06925713270902634. f1:0.9863281376208036 acc: 0.9863333106040955 \n",
            "Epoch [87/100], loss: 0.06695069372653961. f1:0.98666536974126 acc: 0.9866666793823242 \n",
            "Epoch [88/100], loss: 0.06476037949323654. f1:0.9874999590888395 acc: 0.987500011920929 \n",
            "Epoch [89/100], loss: 0.06264811009168625. f1:0.988001344185823 acc: 0.9879999756813049 \n",
            "Epoch [90/100], loss: 0.060595955699682236. f1:0.9885018848613555 acc: 0.9884999990463257 \n",
            "Epoch [91/100], loss: 0.05861634761095047. f1:0.9888362977008318 acc: 0.9888333082199097 \n",
            "Epoch [92/100], loss: 0.0567050576210022. f1:0.9895024469081038 acc: 0.9894999861717224 \n",
            "Epoch [93/100], loss: 0.05486743152141571. f1:0.9898349596831253 acc: 0.9898333549499512 \n",
            "Epoch [94/100], loss: 0.053090158849954605. f1:0.9903359161811649 acc: 0.9903333187103271 \n",
            "Epoch [95/100], loss: 0.05136988312005997. f1:0.9906688172343774 acc: 0.9906666874885559 \n",
            "Epoch [96/100], loss: 0.04970830678939819. f1:0.9906682680153566 acc: 0.9906666874885559 \n",
            "Epoch [97/100], loss: 0.04810803383588791. f1:0.9910015771834491 acc: 0.9909999966621399 \n",
            "Epoch [98/100], loss: 0.04657042771577835. f1:0.9910015771834491 acc: 0.9909999966621399 \n",
            "Epoch [99/100], loss: 0.04508398845791817. f1:0.9913365638386045 acc: 0.9913333058357239 \n",
            "Epoch [100/100], loss: 0.04364597052335739. f1:0.9918370895091041 acc: 0.9918333292007446 \n"
          ],
          "name": "stdout"
        }
      ]
    },
    {
      "cell_type": "code",
      "metadata": {
        "colab": {
          "base_uri": "https://localhost:8080/",
          "height": 335
        },
        "id": "WlSOBiScdVsy",
        "outputId": "8af11977-db48-4711-c8af-caa118053a23"
      },
      "source": [
        "#-- Visualizamos las curvas de entrenamiento y validación\n",
        "\n",
        "fig = plt.figure(figsize=(15,5))\n",
        "plt.subplot(1,3,1)\n",
        "plt.plot(range(n_epoch), loss_train, label='train')\n",
        "plt.plot(range(n_epoch), loss_valid, label='valid')\n",
        "plt.xlabel('n_epoch')\n",
        "plt.ylabel('loss')\n",
        "plt.legend()\n",
        "plt.grid()\n",
        "plt.subplot(1,3,2)\n",
        "plt.plot(range(n_epoch), f1_train, label='train')\n",
        "plt.plot(range(n_epoch), f1_valid, label='valid')\n",
        "plt.xlabel('n_epoch')\n",
        "plt.ylabel('f1_score')\n",
        "plt.legend()\n",
        "plt.grid()\n",
        "plt.subplot(1,3,3)\n",
        "plt.plot(range(n_epoch), acc_train, label='train')\n",
        "plt.plot(range(n_epoch), acc_valid, label='valid')\n",
        "plt.xlabel('n_epoch')\n",
        "plt.ylabel('accuracy')\n",
        "plt.legend()\n",
        "plt.grid()\n",
        "\n",
        "plt.savefig('./curves_ok.png', bbox_inches='tight')\n",
        "plt.show()"
      ],
      "execution_count": null,
      "outputs": [
        {
          "output_type": "display_data",
          "data": {
            "image/png": "[encoded data removed]",
            "text/plain": [
              "<Figure size 1080x360 with 3 Axes>"
            ]
          },
          "metadata": {
            "needs_background": "light"
          }
        }
      ]
    },
    {
      "cell_type": "code",
      "metadata": {
        "colab": {
          "base_uri": "https://localhost:8080/"
        },
        "id": "8H_kyH7_d3tt",
        "outputId": "68aedba7-63e8-454b-eb3e-1f0df9c276cc"
      },
      "source": [
        "#-- Evaluamos el modelo entrenado con el set de testeo\n",
        "\n",
        "model.eval()\n",
        "\n",
        "Xts = X_test.view(X_test.size(0), -1)\n",
        "Y_pred = model(Xts)  \n",
        "loss = criterion(Y_pred,Y_test)\n",
        "\n",
        "Y_pred = torch.argmax(Y_pred, 1)\n",
        "f1 = f1_score(Y_test, Y_pred, average='macro')\n",
        "\n",
        "acc = sum(Y_test == Y_pred)/len(Y_pred)\n",
        "\n",
        "print('loss: {}, f1: {}, acc: {}'.format(loss.item(), f1, acc))"
      ],
      "execution_count": null,
      "outputs": [
        {
          "output_type": "stream",
          "text": [
            "loss: 0.7988482117652893, f1: 0.8911014907562402, acc: 0.8921371102333069\n"
          ],
          "name": "stdout"
        }
      ]
    },
    {
      "cell_type": "markdown",
      "metadata": {
        "id": "VLWxMhgIoRuW"
      },
      "source": [
        "## Segundo caso: Cruzando train+valid"
      ]
    },
    {
      "cell_type": "code",
      "metadata": {
        "id": "tJQjwdH1eQ0S"
      },
      "source": [
        "#--- Cargamos los datos de entrenamiento + validación en listas\n",
        "\n",
        "N_train = len(train_files)+len(valid_files)\n",
        "X_train = []\n",
        "Y_train = []\n",
        "\n",
        "for i, train_file in enumerate( train_files+valid_files ):\n",
        "  Y_train.append( int(train_file.split('/')[3]) )\n",
        "  X_train.append(np.array(Image.open(train_file)))"
      ],
      "execution_count": null,
      "outputs": []
    },
    {
      "cell_type": "code",
      "metadata": {
        "colab": {
          "base_uri": "https://localhost:8080/"
        },
        "id": "tC2Jnjrue58-",
        "outputId": "96e74b68-6c7c-4979-dd87-220438a8fe24"
      },
      "source": [
        "#--- Convetimos las listas con los datos a tensores de torch\n",
        "X_train = Variable(torch.from_numpy(np.array(X_train))).float()\n",
        "Y_train = Variable(torch.from_numpy(np.array(Y_train))).long()\n",
        "\n",
        "X_train.data.size()"
      ],
      "execution_count": null,
      "outputs": [
        {
          "output_type": "execute_result",
          "data": {
            "text/plain": [
              "torch.Size([8000, 28, 28])"
            ]
          },
          "metadata": {},
          "execution_count": 22
        }
      ]
    },
    {
      "cell_type": "code",
      "metadata": {
        "id": "phFODryKfANP"
      },
      "source": [
        "#--- Definimos una ANN con dos capas ocultas lineales de 100 neuronas\n",
        "\n",
        "input_dim = 28*28\n",
        "out_dim = 10\n",
        "hidden = 100\n",
        "\n",
        "model = torch.nn.Sequential(\n",
        "  torch.nn.Linear(input_dim, hidden),\n",
        "  torch.nn.ReLU(),       \n",
        "  torch.nn.Linear(hidden, out_dim)  \n",
        ")\n",
        "\n",
        "optimizer = torch.optim.Adam(model.parameters())\n",
        "criterion = torch.nn.CrossEntropyLoss()"
      ],
      "execution_count": null,
      "outputs": []
    },
    {
      "cell_type": "code",
      "metadata": {
        "colab": {
          "base_uri": "https://localhost:8080/"
        },
        "id": "BjuwjPq6exeR",
        "outputId": "a7cfad84-e878-4671-973e-b5ecfdf108db"
      },
      "source": [
        "from sklearn.metrics import f1_score\n",
        "\n",
        "n_epoch = 100\n",
        "\n",
        "loss_train = []\n",
        "f1_train = []\n",
        "acc_train = []\n",
        "\n",
        "loss_valid = []\n",
        "f1_valid = []\n",
        "acc_valid = []\n",
        "\n",
        "for epoch in range(n_epoch):\n",
        "  model.train()\n",
        "  Xtr = X_train.view(X_train.size(0), -1)\n",
        "  Y_pred = model(Xtr)\n",
        "\n",
        "  loss = criterion(Y_pred,Y_train)\n",
        "  loss_train.append(loss.item())\n",
        "\n",
        "  Y_pred = torch.argmax(Y_pred, 1)\n",
        "  f1_train.append( f1_score(Y_train,Y_pred, average='macro') )\n",
        "  \n",
        "  acc = sum(Y_train == Y_pred)/len(Y_pred)\n",
        "  acc_train.append(acc)\n",
        "\n",
        "  optimizer.zero_grad()\n",
        "  loss.backward()\n",
        "  optimizer.step()\n",
        "\n",
        "  print( 'Epoch [{}/{}], loss: {}. f1:{} acc: {} '.format(epoch+1,n_epoch,loss_train[-1], f1_train[-1], acc_train[-1]) )\n",
        "\n",
        "  model.eval()\n",
        "  Xvl = X_valid.view(X_valid.size(0), -1)\n",
        "  Y_pred = model(Xvl)  \n",
        "  loss = criterion(Y_pred,Y_valid)\n",
        "  loss_valid.append(loss.item())\n",
        "\n",
        "  Y_pred = torch.argmax(Y_pred, 1)\n",
        "  f1_valid.append( f1_score(Y_valid, Y_pred, average='macro') )\n",
        "\n",
        "  acc = sum(Y_valid == Y_pred)/len(Y_pred)\n",
        "  acc_valid.append(acc)  "
      ],
      "execution_count": null,
      "outputs": [
        {
          "output_type": "stream",
          "text": [
            "Epoch [1/100], loss: 24.935379028320312. f1:0.08877327005345716 acc: 0.12287499755620956 \n",
            "Epoch [2/100], loss: 16.986467361450195. f1:0.19346097420624614 acc: 0.24062499403953552 \n",
            "Epoch [3/100], loss: 11.937654495239258. f1:0.3421944619804739 acc: 0.3840000033378601 \n",
            "Epoch [4/100], loss: 7.717433452606201. f1:0.49733629402722557 acc: 0.5095000267028809 \n",
            "Epoch [5/100], loss: 4.312788486480713. f1:0.6457572613383306 acc: 0.6488749980926514 \n",
            "Epoch [6/100], loss: 3.23726749420166. f1:0.7073250424716708 acc: 0.7118750214576721 \n",
            "Epoch [7/100], loss: 3.423774003982544. f1:0.7106714194621787 acc: 0.7282500267028809 \n",
            "Epoch [8/100], loss: 3.425701141357422. f1:0.7242243387657818 acc: 0.7425000071525574 \n",
            "Epoch [9/100], loss: 2.891451597213745. f1:0.7536568357683155 acc: 0.7634999752044678 \n",
            "Epoch [10/100], loss: 2.2422738075256348. f1:0.7945298092496607 acc: 0.7963749766349792 \n",
            "Epoch [11/100], loss: 1.916025161743164. f1:0.8233836345191848 acc: 0.8236250281333923 \n",
            "Epoch [12/100], loss: 1.8100965023040771. f1:0.8284713736110273 acc: 0.8276249766349792 \n",
            "Epoch [13/100], loss: 1.714263677597046. f1:0.8376186292698422 acc: 0.8360000252723694 \n",
            "Epoch [14/100], loss: 1.5777558088302612. f1:0.8466291158157606 acc: 0.8451250195503235 \n",
            "Epoch [15/100], loss: 1.4491733312606812. f1:0.8551719479923815 acc: 0.8541250228881836 \n",
            "Epoch [16/100], loss: 1.3713434934616089. f1:0.8576116192615799 acc: 0.8568750023841858 \n",
            "Epoch [17/100], loss: 1.3380569219589233. f1:0.8569727275888187 acc: 0.8566250205039978 \n",
            "Epoch [18/100], loss: 1.2923439741134644. f1:0.857817745252649 acc: 0.8575000166893005 \n",
            "Epoch [19/100], loss: 1.2099193334579468. f1:0.8638623820592753 acc: 0.8637499809265137 \n",
            "Epoch [20/100], loss: 1.1099236011505127. f1:0.8732142714887049 acc: 0.8730000257492065 \n",
            "Epoch [21/100], loss: 1.0213589668273926. f1:0.8794622403506007 acc: 0.8793749809265137 \n",
            "Epoch [22/100], loss: 0.9498745799064636. f1:0.8835575553326429 acc: 0.8834999799728394 \n",
            "Epoch [23/100], loss: 0.8984038233757019. f1:0.8902013814042574 acc: 0.890250027179718 \n",
            "Epoch [24/100], loss: 0.862367570400238. f1:0.8921076610399474 acc: 0.8922500014305115 \n",
            "Epoch [25/100], loss: 0.8331931233406067. f1:0.8941772381867233 acc: 0.8943750262260437 \n",
            "Epoch [26/100], loss: 0.8035186529159546. f1:0.8948753856720544 acc: 0.8951249718666077 \n",
            "Epoch [27/100], loss: 0.7694298028945923. f1:0.8967884552557953 acc: 0.8971250057220459 \n",
            "Epoch [28/100], loss: 0.7309490442276001. f1:0.8990639465872364 acc: 0.8993750214576721 \n",
            "Epoch [29/100], loss: 0.6914072632789612. f1:0.9023390975994984 acc: 0.9026250243186951 \n",
            "Epoch [30/100], loss: 0.6535725593566895. f1:0.9047866864011814 acc: 0.9049999713897705 \n",
            "Epoch [31/100], loss: 0.618837296962738. f1:0.9076918396327492 acc: 0.9078750014305115 \n",
            "Epoch [32/100], loss: 0.5876287221908569. f1:0.9104089742758823 acc: 0.9104999899864197 \n",
            "Epoch [33/100], loss: 0.5600194334983826. f1:0.912876086539278 acc: 0.9128749966621399 \n",
            "Epoch [34/100], loss: 0.5353736281394958. f1:0.914089626921269 acc: 0.9139999747276306 \n",
            "Epoch [35/100], loss: 0.5132607221603394. f1:0.9166765710724347 acc: 0.9164999723434448 \n",
            "Epoch [36/100], loss: 0.492612361907959. f1:0.9189068296337023 acc: 0.918749988079071 \n",
            "Epoch [37/100], loss: 0.4720073640346527. f1:0.9223931151024173 acc: 0.922249972820282 \n",
            "Epoch [38/100], loss: 0.45107874274253845. f1:0.9237400306569057 acc: 0.9236249923706055 \n",
            "Epoch [39/100], loss: 0.4305494725704193. f1:0.9259432343661624 acc: 0.9258750081062317 \n",
            "Epoch [40/100], loss: 0.41119831800460815. f1:0.927177439074977 acc: 0.9271249771118164 \n",
            "Epoch [41/100], loss: 0.39351990818977356. f1:0.9292575144114068 acc: 0.9292500019073486 \n",
            "Epoch [42/100], loss: 0.3772549033164978. f1:0.9293360134025423 acc: 0.9293749928474426 \n",
            "Epoch [43/100], loss: 0.3617958426475525. f1:0.9329369662782192 acc: 0.9330000281333923 \n",
            "Epoch [44/100], loss: 0.3466023802757263. f1:0.9350461037315194 acc: 0.9351249933242798 \n",
            "Epoch [45/100], loss: 0.3317350447177887. f1:0.9367084488341572 acc: 0.9367499947547913 \n",
            "Epoch [46/100], loss: 0.31779295206069946. f1:0.9394696553720776 acc: 0.9394999742507935 \n",
            "Epoch [47/100], loss: 0.3048284947872162. f1:0.941487548901377 acc: 0.9415000081062317 \n",
            "Epoch [48/100], loss: 0.29309263825416565. f1:0.9432505678826129 acc: 0.9432500004768372 \n",
            "Epoch [49/100], loss: 0.28251558542251587. f1:0.9436321209228697 acc: 0.9436249732971191 \n",
            "Epoch [50/100], loss: 0.27246829867362976. f1:0.9458787722593097 acc: 0.9458749890327454 \n",
            "Epoch [51/100], loss: 0.26251766085624695. f1:0.9477549829295109 acc: 0.9477499723434448 \n",
            "Epoch [52/100], loss: 0.2525101900100708. f1:0.9491257340964172 acc: 0.9491249918937683 \n",
            "Epoch [53/100], loss: 0.24262136220932007. f1:0.950503375304424 acc: 0.9505000114440918 \n",
            "Epoch [54/100], loss: 0.2331715077161789. f1:0.9507433876076282 acc: 0.9507499933242798 \n",
            "Epoch [55/100], loss: 0.22439956665039062. f1:0.9515947579106621 acc: 0.9516249895095825 \n",
            "Epoch [56/100], loss: 0.2162020057439804. f1:0.9526028674159225 acc: 0.9526249766349792 \n",
            "Epoch [57/100], loss: 0.20841623842716217. f1:0.9536127318073774 acc: 0.9536250233650208 \n",
            "Epoch [58/100], loss: 0.2008277028799057. f1:0.9558633615013667 acc: 0.9558749794960022 \n",
            "Epoch [59/100], loss: 0.19345025718212128. f1:0.9576346082718281 acc: 0.9576249718666077 \n",
            "Epoch [60/100], loss: 0.186360165476799. f1:0.9587688269444594 acc: 0.9587500095367432 \n",
            "Epoch [61/100], loss: 0.17973388731479645. f1:0.960637296473539 acc: 0.9606249928474426 \n",
            "Epoch [62/100], loss: 0.1735270619392395. f1:0.9620285921228253 acc: 0.9620000123977661 \n",
            "Epoch [63/100], loss: 0.16760283708572388. f1:0.9651463736237972 acc: 0.9651250243186951 \n",
            "Epoch [64/100], loss: 0.16190265119075775. f1:0.9666555080998147 acc: 0.9666249752044678 \n",
            "Epoch [65/100], loss: 0.15641924738883972. f1:0.9667756138745276 acc: 0.9667500257492065 \n",
            "Epoch [66/100], loss: 0.15113399922847748. f1:0.9672760151804937 acc: 0.9672499895095825 \n",
            "Epoch [67/100], loss: 0.14611609280109406. f1:0.9679003811527581 acc: 0.9678750038146973 \n",
            "Epoch [68/100], loss: 0.14137764275074005. f1:0.9690225200849675 acc: 0.968999981880188 \n",
            "Epoch [69/100], loss: 0.13688595592975616. f1:0.9697620749889756 acc: 0.9697499871253967 \n",
            "Epoch [70/100], loss: 0.13255950808525085. f1:0.970630276293608 acc: 0.9706249833106995 \n",
            "Epoch [71/100], loss: 0.1283835470676422. f1:0.9710047693849747 acc: 0.9710000157356262 \n",
            "Epoch [72/100], loss: 0.12433814257383347. f1:0.9726290545669547 acc: 0.9726250171661377 \n",
            "Epoch [73/100], loss: 0.12046246230602264. f1:0.9740070079933496 acc: 0.9739999771118164 \n",
            "Epoch [74/100], loss: 0.11678438633680344. f1:0.9742550112535875 acc: 0.9742500185966492 \n",
            "Epoch [75/100], loss: 0.11332138627767563. f1:0.9756352470725194 acc: 0.9756249785423279 \n",
            "Epoch [76/100], loss: 0.11000421643257141. f1:0.9765121952776725 acc: 0.9764999747276306 \n",
            "Epoch [77/100], loss: 0.10681486874818802. f1:0.9768881531566069 acc: 0.9768750071525574 \n",
            "Epoch [78/100], loss: 0.10376480221748352. f1:0.9775102721285058 acc: 0.9775000214576721 \n",
            "Epoch [79/100], loss: 0.10084034502506256. f1:0.9785100449127768 acc: 0.9785000085830688 \n",
            "Epoch [80/100], loss: 0.09801807999610901. f1:0.9787578763648022 acc: 0.9787499904632568 \n",
            "Epoch [81/100], loss: 0.09528294950723648. f1:0.9796341405799781 acc: 0.9796249866485596 \n",
            "Epoch [82/100], loss: 0.09264227002859116. f1:0.9800093321591868 acc: 0.9800000190734863 \n",
            "Epoch [83/100], loss: 0.09009198844432831. f1:0.9803863733457565 acc: 0.9803749918937683 \n",
            "Epoch [84/100], loss: 0.08763433992862701. f1:0.9810094897076175 acc: 0.9810000061988831 \n",
            "Epoch [85/100], loss: 0.08526292443275452. f1:0.9817569644552693 acc: 0.9817500114440918 \n",
            "Epoch [86/100], loss: 0.08298567682504654. f1:0.9825082164896468 acc: 0.9825000166893005 \n",
            "Epoch [87/100], loss: 0.08080720156431198. f1:0.983008112621017 acc: 0.9829999804496765 \n",
            "Epoch [88/100], loss: 0.07871417701244354. f1:0.9840065586140481 acc: 0.984000027179718 \n",
            "Epoch [89/100], loss: 0.07668588310480118. f1:0.9843778864050673 acc: 0.984375 \n",
            "Epoch [90/100], loss: 0.07470934838056564. f1:0.9850012854802165 acc: 0.9850000143051147 \n",
            "Epoch [91/100], loss: 0.07279118150472641. f1:0.985376764901684 acc: 0.9853749871253967 \n",
            "Epoch [92/100], loss: 0.07092510908842087. f1:0.9858773359540647 acc: 0.9858750104904175 \n",
            "Epoch [93/100], loss: 0.06911387294530869. f1:0.9868766311809578 acc: 0.9868749976158142 \n",
            "Epoch [94/100], loss: 0.06735067814588547. f1:0.9871247027908108 acc: 0.9871249794960022 \n",
            "Epoch [95/100], loss: 0.0656479150056839. f1:0.9874998323128752 acc: 0.987500011920929 \n",
            "Epoch [96/100], loss: 0.06399655342102051. f1:0.9874997328227405 acc: 0.987500011920929 \n",
            "Epoch [97/100], loss: 0.06239348649978638. f1:0.9876245780848889 acc: 0.987625002861023 \n",
            "Epoch [98/100], loss: 0.06084560975432396. f1:0.9883739660184412 acc: 0.9883750081062317 \n",
            "Epoch [99/100], loss: 0.05934840440750122. f1:0.9884981994942779 acc: 0.9884999990463257 \n",
            "Epoch [100/100], loss: 0.057902153581380844. f1:0.9887488218750405 acc: 0.9887499809265137 \n"
          ],
          "name": "stdout"
        }
      ]
    },
    {
      "cell_type": "code",
      "metadata": {
        "colab": {
          "base_uri": "https://localhost:8080/",
          "height": 335
        },
        "id": "vzTUv_lMfmQb",
        "outputId": "17f4ac51-6089-404b-b64d-377f964ff901"
      },
      "source": [
        "fig = plt.figure(figsize=(15,5))\n",
        "plt.subplot(1,3,1)\n",
        "plt.plot(range(n_epoch), loss_train, label='train')\n",
        "plt.plot(range(n_epoch), loss_valid, label='valid')\n",
        "plt.xlabel('n_epoch')\n",
        "plt.ylabel('loss')\n",
        "plt.legend()\n",
        "plt.grid()\n",
        "plt.subplot(1,3,2)\n",
        "plt.plot(range(n_epoch), f1_train, label='train')\n",
        "plt.plot(range(n_epoch), f1_valid, label='valid')\n",
        "plt.xlabel('n_epoch')\n",
        "plt.ylabel('f1_score')\n",
        "plt.legend()\n",
        "plt.grid()\n",
        "plt.subplot(1,3,3)\n",
        "plt.plot(range(n_epoch), acc_train, label='train')\n",
        "plt.plot(range(n_epoch), acc_valid, label='valid')\n",
        "plt.xlabel('n_epoch')\n",
        "plt.ylabel('accuracy')\n",
        "plt.legend()\n",
        "plt.grid()\n",
        "\n",
        "plt.savefig('./curves_tr_vd.png', bbox_inches='tight')\n",
        "plt.show()"
      ],
      "execution_count": null,
      "outputs": [
        {
          "output_type": "display_data",
          "data": {
            "image/png": "[encoded data removed]",
            "text/plain": [
              "<Figure size 1080x360 with 3 Axes>"
            ]
          },
          "metadata": {
            "needs_background": "light"
          }
        }
      ]
    },
    {
      "cell_type": "code",
      "metadata": {
        "colab": {
          "base_uri": "https://localhost:8080/"
        },
        "id": "d1spT2a6e0Mg",
        "outputId": "bf7fddb9-46e7-49b8-e767-bfba7ae1b478"
      },
      "source": [
        "model.eval()\n",
        "\n",
        "Xts = X_test.view(X_test.size(0), -1)\n",
        "Y_pred = model(Xts)  \n",
        "loss = criterion(Y_pred,Y_test)\n",
        "\n",
        "Y_pred = torch.argmax(Y_pred, 1)\n",
        "f1 = f1_score(Y_test, Y_pred, average='macro')\n",
        "\n",
        "acc = sum(Y_test == Y_pred)/len(Y_pred)\n",
        "\n",
        "print('loss: {}, f1: {}, acc: {}'.format(loss.item(), f1, acc))"
      ],
      "execution_count": null,
      "outputs": [
        {
          "output_type": "stream",
          "text": [
            "loss: 0.6401269435882568, f1: 0.914266650964948, acc: 0.9143145084381104\n"
          ],
          "name": "stdout"
        }
      ]
    },
    {
      "cell_type": "markdown",
      "metadata": {
        "id": "hBlVTXn2pBof"
      },
      "source": [
        "## Tercer caso: Cruzando train+test"
      ]
    },
    {
      "cell_type": "code",
      "metadata": {
        "id": "gGr5M8slo6Qc"
      },
      "source": [
        "#--- Cargamos los datos de entrenamiento + testeo en listas\n",
        "\n",
        "N_train = len(train_files)+len(test_files)\n",
        "X_train = []\n",
        "Y_train = []\n",
        "\n",
        "for i, train_file in enumerate( train_files+test_files):\n",
        "  Y_train.append( int(train_file.split('/')[3]) )\n",
        "  X_train.append(np.array(Image.open(train_file)))"
      ],
      "execution_count": null,
      "outputs": []
    },
    {
      "cell_type": "code",
      "metadata": {
        "colab": {
          "base_uri": "https://localhost:8080/"
        },
        "id": "FdSJ2hjhpPHY",
        "outputId": "d2963271-69c1-434a-b278-d4a5d5cfd42d"
      },
      "source": [
        "#--- Convetimos las listas con los datos a tensores de torch\n",
        "X_train = Variable(torch.from_numpy(np.array(X_train))).float()\n",
        "Y_train = Variable(torch.from_numpy(np.array(Y_train))).long()\n",
        "\n",
        "X_train.data.size()"
      ],
      "execution_count": null,
      "outputs": [
        {
          "output_type": "execute_result",
          "data": {
            "text/plain": [
              "torch.Size([6992, 28, 28])"
            ]
          },
          "metadata": {},
          "execution_count": 29
        }
      ]
    },
    {
      "cell_type": "code",
      "metadata": {
        "id": "DhNgEzULpxPf"
      },
      "source": [
        "#--- Definimos una ANN con dos capas ocultas lineales de 100 neuronas\n",
        "\n",
        "input_dim = 28*28\n",
        "out_dim = 10\n",
        "hidden = 100\n",
        "\n",
        "model = torch.nn.Sequential(\n",
        "  torch.nn.Linear(input_dim, hidden),\n",
        "  torch.nn.ReLU(),       \n",
        "  torch.nn.Linear(hidden, out_dim)  test\n",
        ")\n",
        "\n",
        "optimizer = torch.optim.Adam(model.parameters())\n",
        "criterion = torch.nn.CrossEntropyLoss()"
      ],
      "execution_count": null,
      "outputs": []
    },
    {
      "cell_type": "code",
      "metadata": {
        "colab": {
          "base_uri": "https://localhost:8080/"
        },
        "id": "s6qgyFoqpSgA",
        "outputId": "63faa464-5e40-4ea8-b0c0-97e7d95c7776"
      },
      "source": [
        "from sklearn.metrics import f1_score\n",
        "\n",
        "n_epoch = 100\n",
        "\n",
        "loss_train = []\n",
        "f1_train = []\n",
        "acc_train = []\n",
        "\n",
        "loss_valid = []\n",
        "f1_valid = []\n",
        "acc_valid = []\n",
        "\n",
        "for epoch in range(n_epoch):\n",
        "  model.train()\n",
        "  Xtr = X_train.view(X_train.size(0), -1)\n",
        "  Y_pred = model(Xtr)\n",
        "\n",
        "  loss = criterion(Y_pred,Y_train)\n",
        "  loss_train.append(loss.item())\n",
        "\n",
        "  Y_pred = torch.argmax(Y_pred, 1)\n",
        "  f1_train.append( f1_score(Y_train,Y_pred, average='macro') )\n",
        "  \n",
        "  acc = sum(Y_train == Y_pred)/len(Y_pred)\n",
        "  acc_train.append(acc)\n",
        "\n",
        "  optimizer.zero_grad()\n",
        "  loss.backward()\n",
        "  optimizer.step()\n",
        "\n",
        "  print( 'Epoch [{}/{}], loss: {}. f1:{} acc: {} '.format(epoch+1,n_epoch,loss_train[-1], f1_train[-1], acc_train[-1]) )\n",
        "\n",
        "  model.eval()\n",
        "  Xvl = X_valid.view(X_valid.size(0), -1)\n",
        "  Y_pred = model(Xvl)  \n",
        "  loss = criterion(Y_pred,Y_valid)\n",
        "  loss_valid.append(loss.item())\n",
        "\n",
        "  Y_pred = torch.argmax(Y_pred, 1)\n",
        "  f1_valid.append( f1_score(Y_valid, Y_pred, average='macro') )\n",
        "\n",
        "  acc = sum(Y_valid == Y_pred)/len(Y_pred)\n",
        "  acc_valid.append(acc)  "
      ],
      "execution_count": null,
      "outputs": [
        {
          "output_type": "stream",
          "text": [
            "Epoch [1/100], loss: 31.587966918945312. f1:0.04935316449448504 acc: 0.08395309001207352 \n",
            "Epoch [2/100], loss: 17.72349739074707. f1:0.1900491062222585 acc: 0.20895308256149292 \n",
            "Epoch [3/100], loss: 12.569367408752441. f1:0.331088748283499 acc: 0.3747139573097229 \n",
            "Epoch [4/100], loss: 10.39818286895752. f1:0.4350287034552277 acc: 0.4480835199356079 \n",
            "Epoch [5/100], loss: 8.111660957336426. f1:0.5541980429084606 acc: 0.5662185549736023 \n",
            "Epoch [6/100], loss: 6.222645282745361. f1:0.6253237672976111 acc: 0.6517448425292969 \n",
            "Epoch [7/100], loss: 4.914359092712402. f1:0.6586551600773831 acc: 0.6902173757553101 \n",
            "Epoch [8/100], loss: 3.7042737007141113. f1:0.6972169009153555 acc: 0.7178203463554382 \n",
            "Epoch [9/100], loss: 2.847947359085083. f1:0.74929585841381 acc: 0.755291759967804 \n",
            "Epoch [10/100], loss: 2.344222068786621. f1:0.7808251261565851 acc: 0.7836098670959473 \n",
            "Epoch [11/100], loss: 2.154254913330078. f1:0.7908456157088767 acc: 0.79347825050354 \n",
            "Epoch [12/100], loss: 2.232863426208496. f1:0.7813651400976573 acc: 0.7817505598068237 \n",
            "Epoch [13/100], loss: 2.28818416595459. f1:0.7799960888912046 acc: 0.7766018509864807 \n",
            "Epoch [14/100], loss: 2.1460468769073486. f1:0.7897200847096496 acc: 0.785040020942688 \n",
            "Epoch [15/100], loss: 1.9152711629867554. f1:0.8095819363338691 acc: 0.8064931631088257 \n",
            "Epoch [16/100], loss: 1.7036463022232056. f1:0.8253863969117102 acc: 0.8236556053161621 \n",
            "Epoch [17/100], loss: 1.5266132354736328. f1:0.8405143461668256 acc: 0.839530885219574 \n",
            "Epoch [18/100], loss: 1.3792674541473389. f1:0.8487226858720118 acc: 0.8482551574707031 \n",
            "Epoch [19/100], loss: 1.266526699066162. f1:0.8581610518577774 acc: 0.8579805493354797 \n",
            "Epoch [20/100], loss: 1.1968016624450684. f1:0.8636909391928258 acc: 0.8638443946838379 \n",
            "Epoch [21/100], loss: 1.1544034481048584. f1:0.8657864047394256 acc: 0.8659896850585938 \n",
            "Epoch [22/100], loss: 1.1208218336105347. f1:0.867427734532184 acc: 0.8677059412002563 \n",
            "Epoch [23/100], loss: 1.0855826139450073. f1:0.8684263292657409 acc: 0.8687071204185486 \n",
            "Epoch [24/100], loss: 1.0420563220977783. f1:0.8703697558421867 acc: 0.8705663681030273 \n",
            "Epoch [25/100], loss: 0.99453204870224. f1:0.8725885192686501 acc: 0.872568666934967 \n",
            "Epoch [26/100], loss: 0.9469853043556213. f1:0.8756426250462475 acc: 0.8755720853805542 \n",
            "Epoch [27/100], loss: 0.9020203948020935. f1:0.8800170081327074 acc: 0.8798627257347107 \n",
            "Epoch [28/100], loss: 0.8600022792816162. f1:0.8843026659344423 acc: 0.8840103149414062 \n",
            "Epoch [29/100], loss: 0.8212621212005615. f1:0.888510731075501 acc: 0.888300895690918 \n",
            "Epoch [30/100], loss: 0.7857124209403992. f1:0.892682836819725 acc: 0.8924484848976135 \n",
            "Epoch [31/100], loss: 0.7525296807289124. f1:0.8948936781947123 acc: 0.8947368264198303 \n",
            "Epoch [32/100], loss: 0.7211386561393738. f1:0.8964709981222443 acc: 0.8964530825614929 \n",
            "Epoch [33/100], loss: 0.6912780404090881. f1:0.9003423182805363 acc: 0.9004576802253723 \n",
            "Epoch [34/100], loss: 0.6629723906517029. f1:0.9020015912820535 acc: 0.9021739363670349 \n",
            "Epoch [35/100], loss: 0.6368924975395203. f1:0.901335546295531 acc: 0.9016018509864807 \n",
            "Epoch [36/100], loss: 0.6125125885009766. f1:0.9035485739983404 acc: 0.9038901329040527 \n",
            "Epoch [37/100], loss: 0.5888208746910095. f1:0.9052620906789473 acc: 0.9056063890457153 \n",
            "Epoch [38/100], loss: 0.5650056600570679. f1:0.9071238833992374 acc: 0.9074656963348389 \n",
            "Epoch [39/100], loss: 0.5404987335205078. f1:0.9094510832819429 acc: 0.9097539782524109 \n",
            "Epoch [40/100], loss: 0.5162783861160278. f1:0.9129222114151554 acc: 0.9131864905357361 \n",
            "Epoch [41/100], loss: 0.4933302700519562. f1:0.9148357480980849 acc: 0.9150457382202148 \n",
            "Epoch [42/100], loss: 0.47256261110305786. f1:0.9179398071337763 acc: 0.9180492162704468 \n",
            "Epoch [43/100], loss: 0.45407915115356445. f1:0.9218301421170892 acc: 0.9219107627868652 \n",
            "Epoch [44/100], loss: 0.4370211064815521. f1:0.9231709923978576 acc: 0.9231979250907898 \n",
            "Epoch [45/100], loss: 0.42100974917411804. f1:0.9234140068684253 acc: 0.9234839677810669 \n",
            "Epoch [46/100], loss: 0.4052260220050812. f1:0.9251217990369556 acc: 0.9252002239227295 \n",
            "Epoch [47/100], loss: 0.39015501737594604. f1:0.9268686923928481 acc: 0.9269164800643921 \n",
            "Epoch [48/100], loss: 0.3757779598236084. f1:0.9281580205153492 acc: 0.9282036423683167 \n",
            "Epoch [49/100], loss: 0.3623311519622803. f1:0.929566176084928 acc: 0.9296338558197021 \n",
            "Epoch [50/100], loss: 0.3496471643447876. f1:0.9311058416586974 acc: 0.9312071204185486 \n",
            "Epoch [51/100], loss: 0.33727073669433594. f1:0.9323833531629896 acc: 0.9324942827224731 \n",
            "Epoch [52/100], loss: 0.3252963721752167. f1:0.9332391271198984 acc: 0.9333524107933044 \n",
            "Epoch [53/100], loss: 0.313671737909317. f1:0.93524894558102 acc: 0.9353547096252441 \n",
            "Epoch [54/100], loss: 0.30265116691589355. f1:0.9371251260507757 acc: 0.9372139573097229 \n",
            "Epoch [55/100], loss: 0.29237401485443115. f1:0.9388388554923383 acc: 0.9389302134513855 \n",
            "Epoch [56/100], loss: 0.2827968895435333. f1:0.9397072739477995 acc: 0.9397883415222168 \n",
            "Epoch [57/100], loss: 0.2738213539123535. f1:0.9422893860844983 acc: 0.9423627257347107 \n",
            "Epoch [58/100], loss: 0.2651319205760956. f1:0.9433070693998964 acc: 0.9433638453483582 \n",
            "Epoch [59/100], loss: 0.25663456320762634. f1:0.9447686345514175 acc: 0.9447940587997437 \n",
            "Epoch [60/100], loss: 0.24830585718154907. f1:0.9454985765132117 acc: 0.945509135723114 \n",
            "Epoch [61/100], loss: 0.24016836285591125. f1:0.9473492628337631 acc: 0.9473684430122375 \n",
            "Epoch [62/100], loss: 0.2322697639465332. f1:0.9489176102313259 acc: 0.9489416480064392 \n",
            "Epoch [63/100], loss: 0.224803164601326. f1:0.9497616336853205 acc: 0.9497997760772705 \n",
            "Epoch [64/100], loss: 0.21780811250209808. f1:0.9514870965959881 acc: 0.9515160322189331 \n",
            "Epoch [65/100], loss: 0.21117116510868073. f1:0.9529243044091918 acc: 0.9529462456703186 \n",
            "Epoch [66/100], loss: 0.20478063821792603. f1:0.954508278834606 acc: 0.9545194506645203 \n",
            "Epoch [67/100], loss: 0.1986401081085205. f1:0.9547850162624764 acc: 0.9548054933547974 \n",
            "Epoch [68/100], loss: 0.19277122616767883. f1:0.9552119100980807 acc: 0.9552345275878906 \n",
            "Epoch [69/100], loss: 0.1871425211429596. f1:0.9562187248980919 acc: 0.9562357068061829 \n",
            "Epoch [70/100], loss: 0.18173018097877502. f1:0.9579342628933565 acc: 0.9579519629478455 \n",
            "Epoch [71/100], loss: 0.17649587988853455. f1:0.9592235044745143 acc: 0.95923912525177 \n",
            "Epoch [72/100], loss: 0.17145609855651855. f1:0.9602379764592077 acc: 0.9602402448654175 \n",
            "Epoch [73/100], loss: 0.16658048331737518. f1:0.9619462649452097 acc: 0.9619565010070801 \n",
            "Epoch [74/100], loss: 0.16183187067508698. f1:0.9626668024457714 acc: 0.9626716375350952 \n",
            "Epoch [75/100], loss: 0.15720659494400024. f1:0.9640967653390451 acc: 0.9641018509864807 \n",
            "Epoch [76/100], loss: 0.1527269184589386. f1:0.9650960873061051 acc: 0.9651029706001282 \n",
            "Epoch [77/100], loss: 0.14839951694011688. f1:0.9659549642583378 acc: 0.9659610986709595 \n",
            "Epoch [78/100], loss: 0.14426130056381226. f1:0.9671003741744165 acc: 0.9671052694320679 \n",
            "Epoch [79/100], loss: 0.1402808427810669. f1:0.9689605031069094 acc: 0.9689645171165466 \n",
            "Epoch [80/100], loss: 0.1364368349313736. f1:0.9699634657888841 acc: 0.9699656963348389 \n",
            "Epoch [81/100], loss: 0.13270363211631775. f1:0.970534255452488 acc: 0.9705377817153931 \n",
            "Epoch [82/100], loss: 0.12906762957572937. f1:0.9705336015671946 acc: 0.9705377817153931 \n",
            "Epoch [83/100], loss: 0.12554743885993958. f1:0.9712513676496835 acc: 0.9712528586387634 \n",
            "Epoch [84/100], loss: 0.1221490353345871. f1:0.9723843414022019 acc: 0.9723970293998718 \n",
            "Epoch [85/100], loss: 0.11885803937911987. f1:0.9728148991253207 acc: 0.9728260636329651 \n",
            "Epoch [86/100], loss: 0.11568140238523483. f1:0.9736730647975621 acc: 0.9736841917037964 \n",
            "Epoch [87/100], loss: 0.11261224001646042. f1:0.9751039506926213 acc: 0.9751144051551819 \n",
            "Epoch [88/100], loss: 0.10962088406085968. f1:0.9756740509551743 acc: 0.9756864905357361 \n",
            "Epoch [89/100], loss: 0.10671108961105347. f1:0.9758151706885864 acc: 0.975829541683197 \n",
            "Epoch [90/100], loss: 0.10389100760221481. f1:0.9763854957482693 acc: 0.9764016270637512 \n",
            "Epoch [91/100], loss: 0.10114559531211853. f1:0.9769638879095452 acc: 0.9769737124443054 \n",
            "Epoch [92/100], loss: 0.0984935462474823. f1:0.9773919518245071 acc: 0.9774027466773987 \n",
            "Epoch [93/100], loss: 0.0959259644150734. f1:0.9782507120800646 acc: 0.97826087474823 \n",
            "Epoch [94/100], loss: 0.09342930465936661. f1:0.978824233773215 acc: 0.9788329601287842 \n",
            "Epoch [95/100], loss: 0.09101643413305283. f1:0.9793964073180318 acc: 0.9794050455093384 \n",
            "Epoch [96/100], loss: 0.08868027478456497. f1:0.9798283817084661 acc: 0.9798340797424316 \n",
            "Epoch [97/100], loss: 0.08641207963228226. f1:0.9802602166928871 acc: 0.9802631735801697 \n",
            "Epoch [98/100], loss: 0.08421295881271362. f1:0.9811184907416841 acc: 0.981121301651001 \n",
            "Epoch [99/100], loss: 0.08209782838821411. f1:0.9816925827494234 acc: 0.9816933870315552 \n",
            "Epoch [100/100], loss: 0.08005469292402267. f1:0.9825522705667398 acc: 0.9825515151023865 \n"
          ],
          "name": "stdout"
        }
      ]
    },
    {
      "cell_type": "code",
      "metadata": {
        "colab": {
          "base_uri": "https://localhost:8080/",
          "height": 335
        },
        "id": "MZwjNU11p8_G",
        "outputId": "f9893b14-efbb-434f-fe73-5ac1ccc72fd6"
      },
      "source": [
        "fig = plt.figure(figsize=(15,5))\n",
        "plt.subplot(1,3,1)\n",
        "plt.plot(range(n_epoch), loss_train, label='train')\n",
        "plt.plot(range(n_epoch), loss_valid, label='valid')\n",
        "plt.xlabel('n_epoch')\n",
        "plt.ylabel('loss')\n",
        "plt.legend()\n",
        "plt.grid()\n",
        "plt.subplot(1,3,2)\n",
        "plt.plot(range(n_epoch), f1_train, label='train')\n",
        "plt.plot(range(n_epoch), f1_valid, label='valid')\n",
        "plt.xlabel('n_epoch')\n",
        "plt.ylabel('f1_score')\n",
        "plt.legend()\n",
        "plt.grid()\n",
        "plt.subplot(1,3,3)\n",
        "plt.plot(range(n_epoch), acc_train, label='train')\n",
        "plt.plot(range(n_epoch), acc_valid, label='valid')\n",
        "plt.xlabel('n_epoch')\n",
        "plt.ylabel('accuracy')\n",
        "plt.legend()\n",
        "plt.grid()\n",
        "\n",
        "plt.savefig('./curves_tr_ts.png', bbox_inches='tight')\n",
        "plt.show()"
      ],
      "execution_count": null,
      "outputs": [
        {
          "output_type": "display_data",
          "data": {
            "image/png": "[encoded data removed]",
            "text/plain": [
              "<Figure size 1080x360 with 3 Axes>"
            ]
          },
          "metadata": {
            "needs_background": "light"
          }
        }
      ]
    },
    {
      "cell_type": "code",
      "metadata": {
        "colab": {
          "base_uri": "https://localhost:8080/"
        },
        "id": "8bVjqY-Yp192",
        "outputId": "cbe329f9-6ec1-474d-88a6-4ece5f21ea03"
      },
      "source": [
        "model.eval()\n",
        "\n",
        "Xts = X_test.view(X_test.size(0), -1)\n",
        "Y_pred = model(Xts)  \n",
        "loss = criterion(Y_pred,Y_test)\n",
        "\n",
        "Y_pred = torch.argmax(Y_pred, 1)\n",
        "f1 = f1_score(Y_test, Y_pred, average='macro')\n",
        "\n",
        "acc = sum(Y_test == Y_pred)/len(Y_pred)\n",
        "\n",
        "print('loss: {}, f1: {}, acc: {}'.format(loss.item(), f1, acc))"
      ],
      "execution_count": null,
      "outputs": [
        {
          "output_type": "stream",
          "text": [
            "loss: 0.057037077844142914, f1: 0.9878219490385529, acc: 0.9879032373428345\n"
          ],
          "name": "stdout"
        }
      ]
    }
  ]
}