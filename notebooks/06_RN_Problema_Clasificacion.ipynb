{
  "nbformat": 4,
  "nbformat_minor": 0,
  "metadata": {
    "colab": {
      "name": "06_RN_Problema_Clasificacion.ipynb",
      "provenance": [],
      "collapsed_sections": []
    },
    "kernelspec": {
      "name": "python3",
      "display_name": "Python 3"
    },
    "language_info": {
      "name": "python"
    }
  },
  "cells": [
    {
      "cell_type": "markdown",
      "metadata": {
        "id": "_z_aBS5j8D2Q"
      },
      "source": [
        "# Perceptron de Multiples Capas - MLP\n",
        "\n",
        "Los perceptrones multicapas son un tipo de ANN fromada por múúltiples capas de neurinas, de tal manera que tiene capacidad para resolver problemas que no son linealmente separables, lo cual es la principal limitación del perceptrón. \n",
        "\n",
        "Los perceptrones de multiples capas son conjuntos de perceptrones conectados, donde la salida de un perceptron en una de las capas es la entrada para una neurona en la siguiente capa. Esta estrategia permite extraer una representación fina de la información que entra a la ANN.\n",
        "\n",
        "Los datos en la entrada pasan por un conjunto de capas de neuronas (llamadas capas ocultas) la salida de este conjunto de capas son la entrada para una neurona de salida de la cual obtenemos un único resultado. La siguiente Figura esquematiza la forma en que la información pasa a través de cada neurona en diferente capas.\n",
        "\n",
        "![](https://drive.google.com/uc?id=1qtVjikjui3DqybyiH4ndbL9mS65T4zmx)\n",
        "\n",
        "\n",
        "De la misma forma en la que un perceptron actualiza sus pesos, los MLP actualizan los pesos de todas sus neuronas en un proceso llamado *backpropagation* (o retropropagación). Este proceso es hecho por el *optimizador* que se encarga de calcular el gradiente de la función de error por cada peso de la red, estos pesos son actualizados en cada época y el objetivo es minimizar el error. \n",
        "\n",
        "![](https://drive.google.com/uc?id=15PgGM3v_m8qYENE96uOJrD29_o8p6kLq)\n",
        "\n",
        "Las ANN modernas usan una combinación de multiples capas y reciben el nombre de redes neuronales profundas (\"Deep neural networks\").\n"
      ]
    },
    {
      "cell_type": "markdown",
      "metadata": {
        "id": "V29SqNzG5qv7"
      },
      "source": [
        "# Ejercicio\n",
        "\n",
        "En este ejercicio usaremos el dataset de [red wine quality](https://www.kaggle.com/uciml/red-wine-quality-cortez-et-al-2009) para clasificar el vino entre vino de alta calidad y vino de baja calidad usando todos lo features del dataset. El modelo que usaremos será un [Multi Layer Perceptron Classifier](https://scikit-learn.org/stable/modules/generated/sklearn.neural_network.MLPClassifier.html) del paquete [scikitlearn](https://scikit-learn.org/)."
      ]
    },
    {
      "cell_type": "code",
      "metadata": {
        "colab": {
          "base_uri": "https://localhost:8080/"
        },
        "id": "tVf-GZN68yqT",
        "outputId": "e94ca424-eff0-4cca-bd60-90f37a2de331"
      },
      "source": [
        "#--- Leemos los datos con pandas\n",
        "import pandas as pd\n",
        "\n",
        "data = pd.read_csv('winequality-red.csv')\n",
        "\n",
        "#-- Identificamos los nombres de las columnas\n",
        "data.keys()"
      ],
      "execution_count": 1,
      "outputs": [
        {
          "output_type": "execute_result",
          "data": {
            "text/plain": [
              "Index(['fixed acidity', 'volatile acidity', 'citric acid', 'residual sugar',\n",
              "       'chlorides', 'free sulfur dioxide', 'total sulfur dioxide', 'density',\n",
              "       'pH', 'sulphates', 'alcohol', 'quality'],\n",
              "      dtype='object')"
            ]
          },
          "metadata": {
            "tags": []
          },
          "execution_count": 1
        }
      ]
    },
    {
      "cell_type": "code",
      "metadata": {
        "id": "MkV7ZbLi9jwp"
      },
      "source": [
        "#-- Cargamos los features y los objetivos\n",
        "\n",
        "X = data.drop(['quality'], axis = 'columns')\n",
        "Y = data['quality']"
      ],
      "execution_count": 2,
      "outputs": []
    },
    {
      "cell_type": "code",
      "metadata": {
        "colab": {
          "base_uri": "https://localhost:8080/",
          "height": 334
        },
        "id": "R4vYVNHX-W79",
        "outputId": "2c1096a3-f9b6-48f4-816a-bd53f46218ad"
      },
      "source": [
        "#--- Visualizamos los objetivos en un histograma\n",
        "\n",
        "import matplotlib.pyplot as plt\n",
        "\n",
        "fig = plt.figure(figsize=(7,5))\n",
        "plt.hist(Y)\n",
        "plt.ylabel('Counts')\n",
        "plt.xlabel('quality')\n",
        "plt.show()"
      ],
      "execution_count": 3,
      "outputs": [
        {
          "output_type": "display_data",
          "data": {
            "image/png": "[encoded data removed]",
            "text/plain": [
              "<Figure size 504x360 with 1 Axes>"
            ]
          },
          "metadata": {
            "tags": [],
            "needs_background": "light"
          }
        }
      ]
    },
    {
      "cell_type": "code",
      "metadata": {
        "colab": {
          "base_uri": "https://localhost:8080/",
          "height": 334
        },
        "id": "mD6cj2Lj-m1k",
        "outputId": "73da6d78-5e5a-4bba-8d4f-5ccfeaa4b687"
      },
      "source": [
        "#-- Convertimos nuestro objetivo en un problema binario\n",
        "\n",
        "import numpy as np\n",
        "Y = np.array(Y)\n",
        "\n",
        "Y[Y<6] = 0\n",
        "Y[Y>=6] = 1\n",
        "\n",
        "\n",
        "fig = plt.figure(figsize=(7,5))\n",
        "plt.hist(Y)\n",
        "plt.ylabel('Counts')\n",
        "plt.xlabel('quality')\n",
        "plt.show()"
      ],
      "execution_count": 4,
      "outputs": [
        {
          "output_type": "display_data",
          "data": {
            "image/png": "[encoded data removed]",
            "text/plain": [
              "<Figure size 504x360 with 1 Axes>"
            ]
          },
          "metadata": {
            "tags": [],
            "needs_background": "light"
          }
        }
      ]
    },
    {
      "cell_type": "code",
      "metadata": {
        "id": "-3b97Awne4JM"
      },
      "source": [
        "#--- Dividimos nuestro dataset en Train/Test\n",
        "\n",
        "from sklearn.model_selection import train_test_split\n",
        "\n",
        "X_train, X_test, Y_train, Y_test = train_test_split(X,Y)"
      ],
      "execution_count": 5,
      "outputs": []
    },
    {
      "cell_type": "code",
      "metadata": {
        "id": "737_n3Q_8tW8",
        "colab": {
          "base_uri": "https://localhost:8080/"
        },
        "outputId": "952bb129-f1f0-4f66-9939-b5da6bc785de"
      },
      "source": [
        "#--- Cargamos MLPCLassifier para buscar un modelo\n",
        "\n",
        "from sklearn.neural_network import MLPClassifier\n",
        "\n",
        "model = MLPClassifier(activation='relu',  hidden_layer_sizes=(2, 2), solver='adam', learning_rate_init=0.1)\n",
        "model"
      ],
      "execution_count": 13,
      "outputs": [
        {
          "output_type": "execute_result",
          "data": {
            "text/plain": [
              "MLPClassifier(activation='relu', alpha=0.0001, batch_size='auto', beta_1=0.9,\n",
              "              beta_2=0.999, early_stopping=False, epsilon=1e-08,\n",
              "              hidden_layer_sizes=(2, 2), learning_rate='constant',\n",
              "              learning_rate_init=0.1, max_fun=15000, max_iter=200, momentum=0.9,\n",
              "              n_iter_no_change=10, nesterovs_momentum=True, power_t=0.5,\n",
              "              random_state=None, shuffle=True, solver='adam', tol=0.0001,\n",
              "              validation_fraction=0.1, verbose=False, warm_start=False)"
            ]
          },
          "metadata": {
            "tags": []
          },
          "execution_count": 13
        }
      ]
    },
    {
      "cell_type": "code",
      "metadata": {
        "id": "LK_OFvoCzoZU"
      },
      "source": [
        "#--- Entrenamos el modelo y realizamos una predicción\n",
        "\n",
        "model.fit(X_train,Y_train)\n",
        "Y_pred = model.predict(X_test)"
      ],
      "execution_count": 14,
      "outputs": []
    },
    {
      "cell_type": "code",
      "metadata": {
        "colab": {
          "base_uri": "https://localhost:8080/"
        },
        "id": "pV-bmAOk7Ta_",
        "outputId": "39b47a68-a4bc-4861-dd63-169290769107"
      },
      "source": [
        "Y_pred"
      ],
      "execution_count": 15,
      "outputs": [
        {
          "output_type": "execute_result",
          "data": {
            "text/plain": [
              "array([0, 1, 0, 1, 0, 1, 0, 1, 1, 1, 0, 0, 1, 0, 0, 1, 1, 0, 0, 0, 0, 0,\n",
              "       1, 1, 0, 0, 0, 0, 0, 0, 0, 0, 0, 1, 1, 0, 0, 0, 1, 1, 1, 0, 0, 1,\n",
              "       0, 0, 0, 0, 1, 0, 0, 1, 0, 0, 1, 0, 1, 1, 0, 0, 0, 0, 0, 1, 1, 0,\n",
              "       1, 0, 0, 1, 1, 0, 0, 0, 1, 0, 1, 0, 1, 0, 1, 0, 1, 1, 0, 1, 0, 0,\n",
              "       0, 0, 1, 0, 0, 1, 1, 0, 1, 0, 0, 0, 0, 0, 0, 0, 1, 0, 1, 0, 0, 0,\n",
              "       0, 1, 0, 0, 0, 0, 0, 1, 0, 1, 0, 0, 0, 0, 0, 0, 0, 1, 0, 0, 1, 1,\n",
              "       0, 0, 0, 0, 0, 0, 1, 1, 1, 0, 0, 0, 0, 0, 0, 0, 0, 0, 1, 1, 0, 0,\n",
              "       0, 1, 1, 0, 0, 0, 1, 1, 1, 0, 0, 0, 0, 0, 1, 1, 1, 0, 0, 1, 0, 1,\n",
              "       0, 0, 1, 1, 0, 0, 1, 1, 0, 0, 0, 0, 1, 0, 0, 0, 1, 0, 1, 0, 0, 0,\n",
              "       1, 1, 0, 1, 1, 0, 0, 0, 0, 0, 0, 0, 0, 0, 0, 1, 0, 0, 0, 1, 0, 0,\n",
              "       0, 0, 1, 0, 0, 1, 1, 0, 1, 1, 1, 1, 0, 0, 0, 0, 0, 1, 0, 1, 0, 1,\n",
              "       0, 0, 0, 1, 0, 1, 1, 0, 0, 1, 0, 0, 1, 0, 1, 1, 1, 0, 0, 1, 0, 0,\n",
              "       0, 0, 0, 0, 1, 0, 1, 0, 0, 1, 0, 1, 1, 0, 0, 0, 0, 1, 0, 0, 0, 0,\n",
              "       1, 0, 1, 0, 0, 1, 0, 0, 1, 0, 0, 1, 1, 1, 0, 0, 1, 0, 1, 0, 0, 1,\n",
              "       1, 1, 0, 1, 1, 1, 1, 0, 1, 1, 1, 0, 1, 0, 1, 0, 1, 1, 0, 0, 0, 0,\n",
              "       0, 0, 0, 0, 1, 0, 0, 0, 0, 0, 0, 1, 0, 1, 0, 0, 1, 1, 0, 1, 0, 0,\n",
              "       0, 1, 0, 0, 1, 0, 0, 1, 0, 0, 0, 1, 0, 0, 0, 0, 1, 0, 0, 0, 0, 0,\n",
              "       0, 0, 0, 1, 0, 1, 1, 1, 0, 1, 1, 0, 0, 0, 0, 0, 1, 1, 0, 0, 0, 1,\n",
              "       0, 1, 0, 1])"
            ]
          },
          "metadata": {
            "tags": []
          },
          "execution_count": 15
        }
      ]
    },
    {
      "cell_type": "code",
      "metadata": {
        "colab": {
          "base_uri": "https://localhost:8080/"
        },
        "id": "Lr14LBxf_Zko",
        "outputId": "6d834315-08bc-412e-87ae-74e9238213be"
      },
      "source": [
        "#--- Evaluamos el modelo con el accuracy_score\n",
        "from sklearn.metrics import accuracy_score\n",
        "\n",
        "accuracy_score(Y_pred,Y_test)"
      ],
      "execution_count": 16,
      "outputs": [
        {
          "output_type": "execute_result",
          "data": {
            "text/plain": [
              "0.6475"
            ]
          },
          "metadata": {
            "tags": []
          },
          "execution_count": 16
        }
      ]
    },
    {
      "cell_type": "code",
      "metadata": {
        "id": "TCZiBHcQG0Ds"
      },
      "source": [
        ""
      ],
      "execution_count": 9,
      "outputs": []
    }
  ]
}